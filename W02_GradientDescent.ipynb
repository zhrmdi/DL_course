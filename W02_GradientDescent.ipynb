{
  "nbformat": 4,
  "nbformat_minor": 0,
  "metadata": {
    "colab": {
      "name": "W2_GradientDescent",
      "provenance": [],
      "collapsed_sections": [],
      "toc_visible": true,
      "include_colab_link": true
    },
    "kernel": {
      "display_name": "Python 3",
      "language": "python",
      "name": "python3"
    },
    "kernelspec": {
      "display_name": "Python 3",
      "name": "python3"
    },
    "language_info": {
      "codemirror_mode": {
        "name": "ipython",
        "version": 3
      },
      "file_extension": ".py",
      "mimetype": "text/x-python",
      "name": "python",
      "nbconvert_exporter": "python",
      "pygments_lexer": "ipython3",
      "version": "3.7.11"
    },
    "widgets": {
      "application/vnd.jupyter.widget-state+json": {
        "6a96a607c95445e9944defe91d38bcb6": {
          "model_module": "@jupyter-widgets/output",
          "model_name": "OutputModel",
          "model_module_version": "1.0.0",
          "state": {
            "_view_name": "OutputView",
            "msg_id": "",
            "_dom_classes": [],
            "_model_name": "OutputModel",
            "outputs": [
              {
                "output_type": "stream",
                "name": "stdout",
                "text": [
                  "Video available at https://youtube.com/watch?v=0f9062vWyQA\n"
                ]
              },
              {
                "output_type": "display_data",
                "data": {
                  "text/html": "\n        <iframe\n            width=\"854\"\n            height=\"480\"\n            src=\"https://www.youtube.com/embed/0f9062vWyQA?fs=1&rel=0\"\n            frameborder=\"0\"\n            allowfullscreen\n        ></iframe>\n        ",
                  "text/plain": "<IPython.lib.display.YouTubeVideo at 0x7fb87f653510>",
                  "image/jpeg": "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\n"
                },
                "metadata": {}
              }
            ],
            "_view_module": "@jupyter-widgets/output",
            "_model_module_version": "1.0.0",
            "_view_count": null,
            "_view_module_version": "1.0.0",
            "layout": "IPY_MODEL_0add2e6a17a64aa1ba190f54b34d9b11",
            "_model_module": "@jupyter-widgets/output"
          }
        },
        "0add2e6a17a64aa1ba190f54b34d9b11": {
          "model_module": "@jupyter-widgets/base",
          "model_name": "LayoutModel",
          "model_module_version": "1.2.0",
          "state": {
            "_view_name": "LayoutView",
            "grid_template_rows": null,
            "right": null,
            "justify_content": null,
            "_view_module": "@jupyter-widgets/base",
            "overflow": null,
            "_model_module_version": "1.2.0",
            "_view_count": null,
            "flex_flow": null,
            "width": null,
            "min_width": null,
            "border": null,
            "align_items": null,
            "bottom": null,
            "_model_module": "@jupyter-widgets/base",
            "top": null,
            "grid_column": null,
            "overflow_y": null,
            "overflow_x": null,
            "grid_auto_flow": null,
            "grid_area": null,
            "grid_template_columns": null,
            "flex": null,
            "_model_name": "LayoutModel",
            "justify_items": null,
            "grid_row": null,
            "max_height": null,
            "align_content": null,
            "visibility": null,
            "align_self": null,
            "height": null,
            "min_height": null,
            "padding": null,
            "grid_auto_rows": null,
            "grid_gap": null,
            "max_width": null,
            "order": null,
            "_view_module_version": "1.2.0",
            "grid_template_areas": null,
            "object_position": null,
            "object_fit": null,
            "grid_auto_columns": null,
            "margin": null,
            "display": null,
            "left": null
          }
        },
        "d49101689718463f8f549ddceb29cf23": {
          "model_module": "@jupyter-widgets/output",
          "model_name": "OutputModel",
          "model_module_version": "1.0.0",
          "state": {
            "_view_name": "OutputView",
            "msg_id": "",
            "_dom_classes": [],
            "_model_name": "OutputModel",
            "outputs": [
              {
                "output_type": "stream",
                "name": "stdout",
                "text": [
                  "Video available at https://youtube.com/watch?v=TrxOwAXpFiE\n"
                ]
              },
              {
                "output_type": "display_data",
                "data": {
                  "text/html": "\n        <iframe\n            width=\"854\"\n            height=\"480\"\n            src=\"https://www.youtube.com/embed/TrxOwAXpFiE?fs=1&rel=0\"\n            frameborder=\"0\"\n            allowfullscreen\n        ></iframe>\n        ",
                  "text/plain": "<IPython.lib.display.YouTubeVideo at 0x7fb81f54ca50>",
                  "image/jpeg": "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\n"
                },
                "metadata": {}
              }
            ],
            "_view_module": "@jupyter-widgets/output",
            "_model_module_version": "1.0.0",
            "_view_count": null,
            "_view_module_version": "1.0.0",
            "layout": "IPY_MODEL_d133ca1703b64e1bad46bf0159c53907",
            "_model_module": "@jupyter-widgets/output"
          }
        },
        "d133ca1703b64e1bad46bf0159c53907": {
          "model_module": "@jupyter-widgets/base",
          "model_name": "LayoutModel",
          "model_module_version": "1.2.0",
          "state": {
            "_view_name": "LayoutView",
            "grid_template_rows": null,
            "right": null,
            "justify_content": null,
            "_view_module": "@jupyter-widgets/base",
            "overflow": null,
            "_model_module_version": "1.2.0",
            "_view_count": null,
            "flex_flow": null,
            "width": null,
            "min_width": null,
            "border": null,
            "align_items": null,
            "bottom": null,
            "_model_module": "@jupyter-widgets/base",
            "top": null,
            "grid_column": null,
            "overflow_y": null,
            "overflow_x": null,
            "grid_auto_flow": null,
            "grid_area": null,
            "grid_template_columns": null,
            "flex": null,
            "_model_name": "LayoutModel",
            "justify_items": null,
            "grid_row": null,
            "max_height": null,
            "align_content": null,
            "visibility": null,
            "align_self": null,
            "height": null,
            "min_height": null,
            "padding": null,
            "grid_auto_rows": null,
            "grid_gap": null,
            "max_width": null,
            "order": null,
            "_view_module_version": "1.2.0",
            "grid_template_areas": null,
            "object_position": null,
            "object_fit": null,
            "grid_auto_columns": null,
            "margin": null,
            "display": null,
            "left": null
          }
        },
        "8f3bb841b6c84433981af983d21b5d7c": {
          "model_module": "@jupyter-widgets/output",
          "model_name": "OutputModel",
          "model_module_version": "1.0.0",
          "state": {
            "_view_name": "OutputView",
            "msg_id": "",
            "_dom_classes": [],
            "_model_name": "OutputModel",
            "outputs": [
              {
                "output_type": "stream",
                "name": "stdout",
                "text": [
                  "Video available at https://youtube.com/watch?v=Kbg4Ea8Vibw\n"
                ]
              },
              {
                "output_type": "display_data",
                "data": {
                  "text/html": "\n        <iframe\n            width=\"854\"\n            height=\"480\"\n            src=\"https://www.youtube.com/embed/Kbg4Ea8Vibw?fs=1&rel=0\"\n            frameborder=\"0\"\n            allowfullscreen\n        ></iframe>\n        ",
                  "text/plain": "<IPython.lib.display.YouTubeVideo at 0x7fb87b446590>",
                  "image/jpeg": "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\n"
                },
                "metadata": {}
              }
            ],
            "_view_module": "@jupyter-widgets/output",
            "_model_module_version": "1.0.0",
            "_view_count": null,
            "_view_module_version": "1.0.0",
            "layout": "IPY_MODEL_cbd8f61049b345749c7bd9ae73ecd16a",
            "_model_module": "@jupyter-widgets/output"
          }
        },
        "cbd8f61049b345749c7bd9ae73ecd16a": {
          "model_module": "@jupyter-widgets/base",
          "model_name": "LayoutModel",
          "model_module_version": "1.2.0",
          "state": {
            "_view_name": "LayoutView",
            "grid_template_rows": null,
            "right": null,
            "justify_content": null,
            "_view_module": "@jupyter-widgets/base",
            "overflow": null,
            "_model_module_version": "1.2.0",
            "_view_count": null,
            "flex_flow": null,
            "width": null,
            "min_width": null,
            "border": null,
            "align_items": null,
            "bottom": null,
            "_model_module": "@jupyter-widgets/base",
            "top": null,
            "grid_column": null,
            "overflow_y": null,
            "overflow_x": null,
            "grid_auto_flow": null,
            "grid_area": null,
            "grid_template_columns": null,
            "flex": null,
            "_model_name": "LayoutModel",
            "justify_items": null,
            "grid_row": null,
            "max_height": null,
            "align_content": null,
            "visibility": null,
            "align_self": null,
            "height": null,
            "min_height": null,
            "padding": null,
            "grid_auto_rows": null,
            "grid_gap": null,
            "max_width": null,
            "order": null,
            "_view_module_version": "1.2.0",
            "grid_template_areas": null,
            "object_position": null,
            "object_fit": null,
            "grid_auto_columns": null,
            "margin": null,
            "display": null,
            "left": null
          }
        },
        "64bda6e881d949a6a3d87482e3bd0979": {
          "model_module": "@jupyter-widgets/output",
          "model_name": "OutputModel",
          "model_module_version": "1.0.0",
          "state": {
            "_view_name": "OutputView",
            "msg_id": "",
            "_dom_classes": [],
            "_model_name": "OutputModel",
            "outputs": [
              {
                "output_type": "stream",
                "name": "stdout",
                "text": [
                  "Video available at https://youtube.com/watch?v=V_Gw5cuSca4\n"
                ]
              },
              {
                "output_type": "display_data",
                "data": {
                  "text/html": "\n        <iframe\n            width=\"854\"\n            height=\"480\"\n            src=\"https://www.youtube.com/embed/V_Gw5cuSca4?fs=1&rel=0\"\n            frameborder=\"0\"\n            allowfullscreen\n        ></iframe>\n        ",
                  "text/plain": "<IPython.lib.display.YouTubeVideo at 0x7fb81f04cd10>",
                  "image/jpeg": "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\n"
                },
                "metadata": {}
              }
            ],
            "_view_module": "@jupyter-widgets/output",
            "_model_module_version": "1.0.0",
            "_view_count": null,
            "_view_module_version": "1.0.0",
            "layout": "IPY_MODEL_ae234d0482a14030a590b541bef48e20",
            "_model_module": "@jupyter-widgets/output"
          }
        },
        "ae234d0482a14030a590b541bef48e20": {
          "model_module": "@jupyter-widgets/base",
          "model_name": "LayoutModel",
          "model_module_version": "1.2.0",
          "state": {
            "_view_name": "LayoutView",
            "grid_template_rows": null,
            "right": null,
            "justify_content": null,
            "_view_module": "@jupyter-widgets/base",
            "overflow": null,
            "_model_module_version": "1.2.0",
            "_view_count": null,
            "flex_flow": null,
            "width": null,
            "min_width": null,
            "border": null,
            "align_items": null,
            "bottom": null,
            "_model_module": "@jupyter-widgets/base",
            "top": null,
            "grid_column": null,
            "overflow_y": null,
            "overflow_x": null,
            "grid_auto_flow": null,
            "grid_area": null,
            "grid_template_columns": null,
            "flex": null,
            "_model_name": "LayoutModel",
            "justify_items": null,
            "grid_row": null,
            "max_height": null,
            "align_content": null,
            "visibility": null,
            "align_self": null,
            "height": null,
            "min_height": null,
            "padding": null,
            "grid_auto_rows": null,
            "grid_gap": null,
            "max_width": null,
            "order": null,
            "_view_module_version": "1.2.0",
            "grid_template_areas": null,
            "object_position": null,
            "object_fit": null,
            "grid_auto_columns": null,
            "margin": null,
            "display": null,
            "left": null
          }
        },
        "aa0c2401006d4eab988429d601c54262": {
          "model_module": "@jupyter-widgets/output",
          "model_name": "OutputModel",
          "model_module_version": "1.0.0",
          "state": {
            "_view_name": "OutputView",
            "msg_id": "",
            "_dom_classes": [],
            "_model_name": "OutputModel",
            "outputs": [
              {
                "output_type": "stream",
                "name": "stdout",
                "text": [
                  "Video available at https://youtube.com/watch?v=QBCI5_q89wo\n"
                ]
              },
              {
                "output_type": "display_data",
                "data": {
                  "text/html": "\n        <iframe\n            width=\"854\"\n            height=\"480\"\n            src=\"https://www.youtube.com/embed/QBCI5_q89wo?fs=1&rel=0\"\n            frameborder=\"0\"\n            allowfullscreen\n        ></iframe>\n        ",
                  "text/plain": "<IPython.lib.display.YouTubeVideo at 0x7fb81f04c050>",
                  "image/jpeg": "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\n"
                },
                "metadata": {}
              }
            ],
            "_view_module": "@jupyter-widgets/output",
            "_model_module_version": "1.0.0",
            "_view_count": null,
            "_view_module_version": "1.0.0",
            "layout": "IPY_MODEL_0e52c71b23d6431aa740898f611bd94d",
            "_model_module": "@jupyter-widgets/output"
          }
        },
        "0e52c71b23d6431aa740898f611bd94d": {
          "model_module": "@jupyter-widgets/base",
          "model_name": "LayoutModel",
          "model_module_version": "1.2.0",
          "state": {
            "_view_name": "LayoutView",
            "grid_template_rows": null,
            "right": null,
            "justify_content": null,
            "_view_module": "@jupyter-widgets/base",
            "overflow": null,
            "_model_module_version": "1.2.0",
            "_view_count": null,
            "flex_flow": null,
            "width": null,
            "min_width": null,
            "border": null,
            "align_items": null,
            "bottom": null,
            "_model_module": "@jupyter-widgets/base",
            "top": null,
            "grid_column": null,
            "overflow_y": null,
            "overflow_x": null,
            "grid_auto_flow": null,
            "grid_area": null,
            "grid_template_columns": null,
            "flex": null,
            "_model_name": "LayoutModel",
            "justify_items": null,
            "grid_row": null,
            "max_height": null,
            "align_content": null,
            "visibility": null,
            "align_self": null,
            "height": null,
            "min_height": null,
            "padding": null,
            "grid_auto_rows": null,
            "grid_gap": null,
            "max_width": null,
            "order": null,
            "_view_module_version": "1.2.0",
            "grid_template_areas": null,
            "object_position": null,
            "object_fit": null,
            "grid_auto_columns": null,
            "margin": null,
            "display": null,
            "left": null
          }
        },
        "0b72edc6c9cd449ba9013e120c326f4a": {
          "model_module": "@jupyter-widgets/output",
          "model_name": "OutputModel",
          "model_module_version": "1.0.0",
          "state": {
            "_view_name": "OutputView",
            "msg_id": "",
            "_dom_classes": [],
            "_model_name": "OutputModel",
            "outputs": [
              {
                "output_type": "stream",
                "name": "stdout",
                "text": [
                  "Video available at https://youtube.com/watch?v=WjmQOhuhLiw\n"
                ]
              },
              {
                "output_type": "display_data",
                "data": {
                  "text/html": "\n        <iframe\n            width=\"854\"\n            height=\"480\"\n            src=\"https://www.youtube.com/embed/WjmQOhuhLiw?fs=1&rel=0\"\n            frameborder=\"0\"\n            allowfullscreen\n        ></iframe>\n        ",
                  "text/plain": "<IPython.lib.display.YouTubeVideo at 0x7fb87f4ec350>",
                  "image/jpeg": "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\n"
                },
                "metadata": {}
              }
            ],
            "_view_module": "@jupyter-widgets/output",
            "_model_module_version": "1.0.0",
            "_view_count": null,
            "_view_module_version": "1.0.0",
            "layout": "IPY_MODEL_ec0acdae5e404ce49db289b1055d1a38",
            "_model_module": "@jupyter-widgets/output"
          }
        },
        "ec0acdae5e404ce49db289b1055d1a38": {
          "model_module": "@jupyter-widgets/base",
          "model_name": "LayoutModel",
          "model_module_version": "1.2.0",
          "state": {
            "_view_name": "LayoutView",
            "grid_template_rows": null,
            "right": null,
            "justify_content": null,
            "_view_module": "@jupyter-widgets/base",
            "overflow": null,
            "_model_module_version": "1.2.0",
            "_view_count": null,
            "flex_flow": null,
            "width": null,
            "min_width": null,
            "border": null,
            "align_items": null,
            "bottom": null,
            "_model_module": "@jupyter-widgets/base",
            "top": null,
            "grid_column": null,
            "overflow_y": null,
            "overflow_x": null,
            "grid_auto_flow": null,
            "grid_area": null,
            "grid_template_columns": null,
            "flex": null,
            "_model_name": "LayoutModel",
            "justify_items": null,
            "grid_row": null,
            "max_height": null,
            "align_content": null,
            "visibility": null,
            "align_self": null,
            "height": null,
            "min_height": null,
            "padding": null,
            "grid_auto_rows": null,
            "grid_gap": null,
            "max_width": null,
            "order": null,
            "_view_module_version": "1.2.0",
            "grid_template_areas": null,
            "object_position": null,
            "object_fit": null,
            "grid_auto_columns": null,
            "margin": null,
            "display": null,
            "left": null
          }
        }
      }
    }
  },
  "cells": [
    {
      "cell_type": "markdown",
      "metadata": {
        "id": "view-in-github",
        "colab_type": "text"
      },
      "source": [
        "<a href=\"https://colab.research.google.com/github/arashash/Deep-Learning-Course-Tutorials/blob/main/W2_GradientDescent.ipynb\" target=\"_parent\"><img src=\"https://colab.research.google.com/assets/colab-badge.svg\" alt=\"Open In Colab\"/></a>"
      ]
    },
    {
      "cell_type": "markdown",
      "metadata": {
        "execution": {},
        "id": "Z7ewhppoPN3W"
      },
      "source": [
        "# Week 2: Gradient Descent and AutoGrad\n",
        "**By Arash Ash, adapted from Neuromatch Academy [contents](https://github.com/NeuromatchAcademy/course-content-dl)**\n"
      ]
    },
    {
      "cell_type": "markdown",
      "metadata": {
        "execution": {},
        "id": "KVUPdZbnPN3a"
      },
      "source": [
        "---\n",
        "#Tutorial Objectives\n",
        "\n",
        "Day 2 Tutorial 1 will continue on buiding PyTorch skillset and motivate its core functionality, Autograd. In this notebook, we will cover the key concepts and ideas of:\n",
        "\n",
        "* Gradient descent\n",
        "* PyTorch Autograd\n",
        "* PyTorch nn module\n",
        "\n",
        "\n"
      ]
    },
    {
      "cell_type": "markdown",
      "metadata": {
        "execution": {},
        "id": "yr7mRX8mPN3c"
      },
      "source": [
        "---\n",
        "# Setup\n",
        "\n",
        "This a GPU-Free tutorial!\n"
      ]
    },
    {
      "cell_type": "code",
      "metadata": {
        "execution": {},
        "id": "jyLCm0jSPN3c"
      },
      "source": [
        "# Imports\n",
        "import torch\n",
        "import numpy as np\n",
        "from torch import nn\n",
        "from math import pi\n",
        "import matplotlib.pyplot as plt"
      ],
      "execution_count": 1,
      "outputs": []
    },
    {
      "cell_type": "code",
      "metadata": {
        "cellView": "form",
        "execution": {},
        "id": "FpIRbFGqPN3d"
      },
      "source": [
        "# @title Figure settings\n",
        "import ipywidgets as widgets       # interactive display\n",
        "%config InlineBackend.figure_format = 'retina'\n",
        "plt.style.use(\"https://raw.githubusercontent.com/NeuromatchAcademy/content-creation/main/nma.mplstyle\")"
      ],
      "execution_count": 2,
      "outputs": []
    },
    {
      "cell_type": "code",
      "metadata": {
        "cellView": "form",
        "execution": {},
        "id": "yDKMd4BzPN3d"
      },
      "source": [
        "# @title Plotting functions\n",
        "\n",
        "from mpl_toolkits.axes_grid1 import make_axes_locatable\n",
        "\n",
        "def ex3_plot(model, x, y, ep, lss):\n",
        "  f, (ax1, ax2) = plt.subplots(1, 2, figsize=(12, 4))\n",
        "  ax1.set_title(\"Regression\")\n",
        "  ax1.plot(x, model(x).detach().numpy(), color='r', label='prediction')\n",
        "  ax1.scatter(x, y, c='c', label='targets')\n",
        "  ax1.set_xlabel('x')\n",
        "  ax1.set_ylabel('y')\n",
        "  ax1.legend()\n",
        "\n",
        "  ax2.set_title(\"Training loss\")\n",
        "  ax2.plot(np.linspace(1, epochs, epochs), losses, color='y')\n",
        "  ax2.set_xlabel(\"Epoch\")\n",
        "  ax2.set_ylabel(\"MSE\")\n",
        "\n",
        "  plt.show()\n",
        "\n",
        "\n",
        "def ex1_plot(fun_z, fun_dz):\n",
        "  \"\"\"Plots the function and gradient vectors\n",
        "\n",
        "  \"\"\"\n",
        "  x, y = np.arange(-3, 3.01, 0.02), np.arange(-3, 3.01, 0.02)\n",
        "  xx, yy = np.meshgrid(x, y, sparse=True)\n",
        "  zz = fun_z(xx, yy)\n",
        "  xg, yg = np.arange(-2.5, 2.6, 0.5), np.arange(-2.5, 2.6, 0.5)\n",
        "  xxg, yyg = np.meshgrid(xg, yg, sparse=True)\n",
        "  zxg, zyg = fun_dz(xxg, yyg)\n",
        "\n",
        "  plt.figure(figsize=(8, 7))\n",
        "  plt.title(\"Gradient vectors point towards steepest ascent\")\n",
        "  contplt = plt.contourf(x, y, zz, levels=20)\n",
        "  plt.quiver(xxg, yyg, zxg, zyg, scale=50, color='r', )\n",
        "  plt.xlabel('$x$')\n",
        "  plt.ylabel('$y$')\n",
        "  ax = plt.gca()\n",
        "  divider = make_axes_locatable(ax)\n",
        "  cax = divider.append_axes(\"right\", size=\"5%\", pad=0.05)\n",
        "  cbar = plt.colorbar(contplt, cax=cax)\n",
        "  cbar.set_label('$z = h(x, y)$')\n",
        "  plt.show()"
      ],
      "execution_count": 3,
      "outputs": []
    },
    {
      "cell_type": "code",
      "metadata": {
        "cellView": "form",
        "execution": {},
        "id": "Co_k4mFVPN3e"
      },
      "source": [
        "# @title Set random seed\n",
        "\n",
        "# @markdown Executing `set_seed(seed=seed)` you are setting the seed\n",
        "\n",
        "# for DL its critical to set the random seed so that students can have a\n",
        "# baseline to compare their results to expected results.\n",
        "# Read more here: https://pytorch.org/docs/stable/notes/randomness.html\n",
        "\n",
        "# Call `set_seed` function in the exercises to ensure reproducibility.\n",
        "import random\n",
        "import torch\n",
        "\n",
        "def set_seed(seed=None, seed_torch=True):\n",
        "  if seed is None:\n",
        "    seed = np.random.choice(2 ** 32)\n",
        "  random.seed(seed)\n",
        "  np.random.seed(seed)\n",
        "  if seed_torch:\n",
        "    torch.manual_seed(seed)\n",
        "    torch.cuda.manual_seed_all(seed)\n",
        "    torch.cuda.manual_seed(seed)\n",
        "    torch.backends.cudnn.benchmark = False\n",
        "    torch.backends.cudnn.deterministic = True\n",
        "\n",
        "  print(f'Random seed {seed} has been set.')\n",
        "\n",
        "\n",
        "# In case that `DataLoader` is used\n",
        "def seed_worker(worker_id):\n",
        "  worker_seed = torch.initial_seed() % 2**32\n",
        "  np.random.seed(worker_seed)\n",
        "  random.seed(worker_seed)"
      ],
      "execution_count": 4,
      "outputs": []
    },
    {
      "cell_type": "code",
      "metadata": {
        "cellView": "form",
        "execution": {},
        "id": "q5C0-qmzPN3e"
      },
      "source": [
        "# @title Set device (GPU or CPU). Execute `set_device()`\n",
        "# especially if torch modules used.\n",
        "\n",
        "# inform the user if the notebook uses GPU or CPU.\n",
        "\n",
        "def set_device():\n",
        "  device = \"cuda\" if torch.cuda.is_available() else \"cpu\"\n",
        "  if device != \"cuda\":\n",
        "    print(\"GPU is not enabled in this notebook. \\n\"\n",
        "          \"If you want to enable it, in the menu under `Runtime` -> \\n\"\n",
        "          \"`Hardware accelerator.` and select `GPU` from the dropdown menu\")\n",
        "  else:\n",
        "    print(\"GPU is enabled in this notebook. \\n\"\n",
        "          \"If you want to disable it, in the menu under `Runtime` -> \\n\"\n",
        "          \"`Hardware accelerator.` and select `None` from the dropdown menu\")\n",
        "\n",
        "  return device"
      ],
      "execution_count": 5,
      "outputs": []
    },
    {
      "cell_type": "code",
      "metadata": {
        "execution": {},
        "id": "7G6kge-xPN3f",
        "colab": {
          "base_uri": "https://localhost:8080/"
        },
        "outputId": "ad835ebc-9aae-46c7-8a6b-c2f1ff96cb8d"
      },
      "source": [
        "SEED = 2021\n",
        "set_seed(seed=SEED)\n",
        "DEVICE = set_device()"
      ],
      "execution_count": 6,
      "outputs": [
        {
          "output_type": "stream",
          "name": "stdout",
          "text": [
            "Random seed 2021 has been set.\n",
            "GPU is not enabled in this notebook. \n",
            "If you want to enable it, in the menu under `Runtime` -> \n",
            "`Hardware accelerator.` and select `GPU` from the dropdown menu\n"
          ]
        }
      ]
    },
    {
      "cell_type": "markdown",
      "metadata": {
        "execution": {},
        "id": "Q1-7SediPN3f"
      },
      "source": [
        "---\n",
        "# Section 0: Introduction"
      ]
    },
    {
      "cell_type": "markdown",
      "metadata": {
        "execution": {},
        "id": "gTtobhJaPN3g"
      },
      "source": [
        "Today, we will go through 3 tutorials. Starting with Gradient Descent, the workhorse of deep learning algorithms, in this tutorial. The second tutorial will help us build a better intuition about neural networks and basic hyper-parameters. Finally, in tutorial 3, we learn about the learning dynamics, what the (a good) deep network is learning, and why sometimes they may perform poorly."
      ]
    },
    {
      "cell_type": "markdown",
      "metadata": {
        "execution": {},
        "id": "QG9-DrNFPN3g"
      },
      "source": [
        "---\n",
        "# Section 1: Gradient Descent Algorithm"
      ]
    },
    {
      "cell_type": "markdown",
      "metadata": {
        "execution": {},
        "id": "4C4z3XajPN3g"
      },
      "source": [
        "Since the goal of most learning algorithms is **minimizing the risk (also known as the cost or loss) function**, optimization is often the core of most machine learning techniques! The gradient descent algorithm, along with its variations such as stochastic gradient descent, is one of the most powerful and popular optimization methods used for deep learning. Today we will introduce the basics, but you will learn much more about Optimization in the coming days (Week 1 Day 4).\n",
        "\n",
        "\n",
        "\n"
      ]
    },
    {
      "cell_type": "markdown",
      "metadata": {
        "execution": {},
        "id": "DLaYSwLdPN3g"
      },
      "source": [
        "## Section 1.1: Gradients & Steepest Ascent"
      ]
    },
    {
      "cell_type": "code",
      "metadata": {
        "execution": {},
        "id": "r6cOubYRPN3g",
        "colab": {
          "base_uri": "https://localhost:8080/",
          "height": 518,
          "referenced_widgets": [
            "6a96a607c95445e9944defe91d38bcb6",
            "0add2e6a17a64aa1ba190f54b34d9b11"
          ]
        },
        "cellView": "form",
        "outputId": "bfb17d31-0fab-4392-ade2-ede47d7dd73d"
      },
      "source": [
        "# @title Video: Gradient Descent\n",
        "from ipywidgets import widgets\n",
        "\n",
        "out1 = widgets.Output()\n",
        "with out1:\n",
        "  from IPython.display import YouTubeVideo\n",
        "  video = YouTubeVideo(id=f\"0f9062vWyQA\", width=854, height=480, fs=1, rel=0)\n",
        "  print(\"Video available at https://youtube.com/watch?v=\" + video.id)\n",
        "  display(video)\n",
        "\n",
        "display(out1)"
      ],
      "execution_count": 7,
      "outputs": [
        {
          "output_type": "display_data",
          "data": {
            "application/vnd.jupyter.widget-view+json": {
              "model_id": "6a96a607c95445e9944defe91d38bcb6",
              "version_minor": 0,
              "version_major": 2
            },
            "text/plain": [
              "Output()"
            ]
          },
          "metadata": {}
        }
      ]
    },
    {
      "cell_type": "markdown",
      "metadata": {
        "execution": {},
        "id": "kKKDhAJ8PN3h"
      },
      "source": [
        "Before introducing the gradient descent algorithm, let's review a very important property of gradients. The gradient of a function always points in the direction of the steepest ascent. The following exercise will help clarify this."
      ]
    },
    {
      "cell_type": "markdown",
      "metadata": {
        "execution": {},
        "id": "nlmYZOBTPN3h"
      },
      "source": [
        "### Analytical Exercise 1.1: Gradient vector (Optional)\n",
        "\n",
        "Given the following function:\n",
        "\n",
        "\\begin{equation}\n",
        "z = h(x, y) = \\sin(x^2 + y^2)\n",
        "\\end{equation}\n",
        "\n",
        "find the gradient vector:\n",
        "\n",
        "\\begin{equation}\n",
        "  \\begin{bmatrix}\n",
        "  \\dfrac{\\partial z}{\\partial x} \\\\ \\\\ \\dfrac{\\partial z}{\\partial y}\n",
        "  \\end{bmatrix}\n",
        "\\end{equation}\n",
        "\n",
        "\n",
        "*hint: use the chain rule!*\n",
        "\n",
        "**Chain rule**: For a composite function $F(x) = g(h(x)) \\equiv (g \\circ h)(x)$:\n",
        "\n",
        "\\begin{equation}\n",
        "F'(x) = g'(h(x)) \\cdot h'(x)\n",
        "\\end{equation}\n",
        "\n",
        "or differently denoted:\n",
        "\n",
        "\\begin{equation}\n",
        "\\frac{dF}{dx} = \\frac{dg}{dh} ~ \\frac{dh}{dx}\n",
        "\\end{equation}\n",
        "\n",
        "---\n",
        "#### Solution:\n",
        "We can rewrite the function as a composite function:\n",
        "\n",
        "\\begin{equation}\n",
        "z = f\\left( g(x,y) \\right), ~~ f(u) = \\sin(u), ~~ g(x, y) = x^2 + y^2\n",
        "\\end{equation}\n",
        "\n",
        "Using chain rule:\n",
        "\n",
        "\\begin{align}\n",
        "\\dfrac{\\partial z}{\\partial x} &= \\dfrac{\\partial f}{\\partial g} \\dfrac{\\partial g}{\\partial x} = \\cos(g(x,y)) ~ (2x) = \\cos(x^2 + y^2) \\cdot 2x \\\\ \\\\\n",
        "\\dfrac{\\partial z}{\\partial y} &= \\dfrac{\\partial f}{\\partial g} \\dfrac{\\partial g}{\\partial y} = \\cos(g(x,y)) ~ (2y) = \\cos(x^2 + y^2) \\cdot 2y\n",
        "\\end{align}\n"
      ]
    },
    {
      "cell_type": "markdown",
      "metadata": {
        "execution": {},
        "id": "n-V2iLBGPN3h"
      },
      "source": [
        "### Coding Exercise 1.1: Gradient Vector\n",
        "\n",
        "Implement (complete) the function which returns the gradient vector for $z=\\sin(x^2 + y^2)$."
      ]
    },
    {
      "cell_type": "code",
      "metadata": {
        "execution": {},
        "id": "gLi-EWgBPN3i"
      },
      "source": [
        "def fun_z(x, y):\n",
        "  \"\"\"Function sin(x^2 + y^2)\n",
        "\n",
        "  Args:\n",
        "    x (float, np.ndarray): variable x\n",
        "    y (float, np.ndarray): variable y\n",
        "\n",
        "  Return:\n",
        "    z (float, np.ndarray): sin(x^2 + y^2)\n",
        "  \"\"\"\n",
        "  z = np.sin(x**2 + y**2)\n",
        "  return z\n",
        "\n",
        "\n",
        "def fun_dz(x, y):\n",
        "  \"\"\"Function sin(x^2 + y^2)\n",
        "\n",
        "  Args:\n",
        "    x (float, np.ndarray): variable x\n",
        "    y (float, np.ndarray): variable y\n",
        "\n",
        "  Return:\n",
        "    (tuple): gradient vector for sin(x^2 + y^2)\n",
        "  \"\"\"\n",
        "  #################################################\n",
        "  ## Implement the function which returns gradient vector\n",
        "  ## Complete the partial derivatives dz_dx and dz_dy\n",
        "  # Complete the function and remove or comment the line below\n",
        "  raise NotImplementedError(\"Gradient function `fun_dz`\")\n",
        "  #################################################\n",
        "  dz_dx = ...\n",
        "  dz_dy = ...\n",
        "  return (dz_dx, dz_dy)\n",
        "\n",
        "## Uncomment to run\n",
        "# ex1_plot(fun_z, fun_dz)"
      ],
      "execution_count": 8,
      "outputs": []
    },
    {
      "cell_type": "markdown",
      "metadata": {
        "execution": {},
        "id": "apXU3xL6PN3j"
      },
      "source": [
        "We can see from the plot that for any given $x_0$ and $y_0$, the gradient vector $\\left[ \\dfrac{\\partial z}{\\partial x}, \\dfrac{\\partial z}{\\partial y}\\right]^{\\top}_{(x_0, y_0)}$ points in the direction of $x$ and $y$ for which $z$ increases the most. It is important to note that gradient vectors only see their local values, not the whole landscape! Also, length (size) of each vector, which indicates the steepness of the function, can be very small near local plateaus (i.e. minima or maxima).\n",
        "\n",
        "Thus, we can simply use the aforementioned formula to find the local minima. \n",
        "\n",
        "In 1847, Augustin-Louis Cauchy used **negative of gradients**  to develop the Gradient Descent algorithm as an **iterative** method to **minimize** a **continuous** and (ideally) **differentiable function** of **many variables**."
      ]
    },
    {
      "cell_type": "code",
      "metadata": {
        "execution": {},
        "id": "nsksZEsnPN3j",
        "colab": {
          "base_uri": "https://localhost:8080/",
          "height": 518,
          "referenced_widgets": [
            "d49101689718463f8f549ddceb29cf23",
            "d133ca1703b64e1bad46bf0159c53907"
          ]
        },
        "cellView": "form",
        "outputId": "6c324121-5df0-456d-bf70-f051252a99b0"
      },
      "source": [
        "# @title Video: Gradient Descent Algorithm\n",
        "from ipywidgets import widgets\n",
        "\n",
        "out1 = widgets.Output()\n",
        "with out1:\n",
        "  from IPython.display import YouTubeVideo\n",
        "  video = YouTubeVideo(id=f\"TrxOwAXpFiE\", width=854, height=480, fs=1, rel=0)\n",
        "  print(\"Video available at https://youtube.com/watch?v=\" + video.id)\n",
        "  display(video)\n",
        "\n",
        "display(out1)"
      ],
      "execution_count": 9,
      "outputs": [
        {
          "output_type": "display_data",
          "data": {
            "application/vnd.jupyter.widget-view+json": {
              "model_id": "d49101689718463f8f549ddceb29cf23",
              "version_minor": 0,
              "version_major": 2
            },
            "text/plain": [
              "Output()"
            ]
          },
          "metadata": {}
        }
      ]
    },
    {
      "cell_type": "markdown",
      "metadata": {
        "execution": {},
        "id": "mfdm1NjdPN3j"
      },
      "source": [
        "## Section 1.2: Gradient Descent Algorithm"
      ]
    },
    {
      "cell_type": "markdown",
      "metadata": {
        "execution": {},
        "id": "Lgibz3FMPN3k"
      },
      "source": [
        "Let $f(\\mathbf{w}): \\mathbb{R}^d \\rightarrow \\mathbb{R}$ be a differentiable function. Gradient Descent is an iterative algorithm for minimizing the function $f$, starting with an initial value for variables $\\mathbf{w}$, taking steps of size $\\eta$ (learning rate) in the direction of the negative gradient at the current point to update the variables $\\mathbf{w}$.\n",
        "\n",
        "\\begin{equation}\n",
        "\\mathbf{w}^{(t+1)} = \\mathbf{w}^{(t)} - \\eta \\nabla f (\\mathbf{w}^{(t)})\n",
        "\\end{equation}\n",
        "\n",
        "where $\\eta > 0$ and $\\nabla f (\\mathbf{w})= \\left( \\frac{\\partial f(\\mathbf{w})}{\\partial w_1}, ..., \\frac{\\partial f(\\mathbf{w})}{\\partial w_d} \\right)$. Since negative gradients always point locally in the direction of steepest descent, the algorithm makes small steps at each point **towards** the minimum.\n",
        "  \n",
        "<br/>\n",
        "\n",
        "**Vanilla Algorithm**\n",
        "\n",
        "---\n",
        "> **inputs**: initial guess $\\mathbf{w}^{(0)}$, step size $\\eta > 0$, number of steps $T$\n",
        "\n",
        "> *For* $t = 0, 2, \\dots , T-1$ *do* \\\n",
        "$\\qquad$ $\\mathbf{w}^{(t+1)} = \\mathbf{w}^{(t)} - \\eta \\nabla f (\\mathbf{w}^{(t)})$\\\n",
        "*end*\n",
        "\n",
        "> *return*: $\\mathbf{w}^{(t+1)}$\n",
        "\n",
        "---\n",
        "\n",
        "<br/>\n",
        "\n",
        "Hence, all we need is to calculate the gradient of the loss function with respect to the learnable parameters (i.e. weights):\n",
        "\n",
        "\\begin{equation}\n",
        "\\dfrac{\\partial Loss}{\\partial \\mathbf{w}} = \\left[ \\dfrac{\\partial Loss}{\\partial w_1}, \\dfrac{\\partial Loss}{\\partial w_2} , ..., \\dfrac{\\partial Loss}{\\partial w_d} \\right]^{\\top}\n",
        "\\end{equation}\n",
        "\n"
      ]
    },
    {
      "cell_type": "markdown",
      "metadata": {
        "execution": {},
        "id": "DoAmW7B4PN3k"
      },
      "source": [
        "### Analytical Exercise 1.2: Gradients (optional)\n",
        "\n",
        "Given $f(x, y, z) = \\tanh \\left( \\ln \\left[1 + z \\frac{2x}{sin(y)} \\right] \\right)$, how easy is it to derive $\\dfrac{\\partial f}{\\partial x}$, $\\dfrac{\\partial f}{\\partial y}$ and $\\dfrac{\\partial f}{\\partial z}$? (*hint: you don't have to actually calculate them!*)"
      ]
    },
    {
      "cell_type": "markdown",
      "metadata": {
        "execution": {},
        "id": "WBm93XToPN3k"
      },
      "source": [
        "## Section 1.3: Computational Graphs and Backprop\n"
      ]
    },
    {
      "cell_type": "code",
      "metadata": {
        "execution": {},
        "id": "W4sWih9aPN3k",
        "colab": {
          "base_uri": "https://localhost:8080/",
          "height": 518,
          "referenced_widgets": [
            "8f3bb841b6c84433981af983d21b5d7c",
            "cbd8f61049b345749c7bd9ae73ecd16a"
          ]
        },
        "cellView": "form",
        "outputId": "cfbd87f0-6a6e-428c-87e9-c282e041f8fb"
      },
      "source": [
        "# @title Video: Computational Graph\n",
        "from ipywidgets import widgets\n",
        "\n",
        "out1 = widgets.Output()\n",
        "with out1:\n",
        "  from IPython.display import YouTubeVideo\n",
        "  video = YouTubeVideo(id=f\"Kbg4Ea8Vibw\", width=854, height=480, fs=1, rel=0)\n",
        "  print(\"Video available at https://youtube.com/watch?v=\" + video.id)\n",
        "  display(video)\n",
        "\n",
        "display(out1)"
      ],
      "execution_count": 10,
      "outputs": [
        {
          "output_type": "display_data",
          "data": {
            "application/vnd.jupyter.widget-view+json": {
              "model_id": "8f3bb841b6c84433981af983d21b5d7c",
              "version_minor": 0,
              "version_major": 2
            },
            "text/plain": [
              "Output()"
            ]
          },
          "metadata": {}
        }
      ]
    },
    {
      "cell_type": "markdown",
      "metadata": {
        "execution": {},
        "id": "h9Q3ENQSPN3k"
      },
      "source": [
        " *Exercise 1.2* is an example of how overwhelming the derivation of gradients can get, as the number of variables and nested functions increases. This function is still extraordinarily simple compared to the loss functions of modern neural networks. So how can we (as well as PyTorch and similar frameworks) approach such beasts?\n",
        "\n",
        "Let’s look at the function again:\n",
        "\n",
        "\\begin{equation}\n",
        "f(x, y, z) = \\tanh \\left(\\ln \\left[1 + z \\frac{2x}{sin(y)} \\right] \\right)\n",
        "\\end{equation}\n",
        "\n",
        "We can build a so-called computational graph (shown below) to break the original function into smaller and more approachable expressions.\n",
        "\n",
        "<center><img src=\"https://raw.githubusercontent.com/NeuromatchAcademy/course-content-dl/main/tutorials/W1D2_LinearDeepLearning/static/comput_graph.png\" alt=\"Computation Graph\" width=\"700\"/></center>\n",
        "\n",
        "Starting from $x$, $y$, and $z$ and following the arrows and expressions, you would see that our graph returns the same function as $f$. It does so by calculating intermediate variables $a,b,c,d,$ and $e$. This is called the **forward pass**.\n",
        "\n",
        "Now, let’s start from $f$, and work our way against the arrows while calculating the gradient of each expression as we go. This is called the **backward pass**, from which the **backpropagation of errors** algorithm gets its name.\n",
        "\n",
        "<center><img src=\"https://raw.githubusercontent.com/NeuromatchAcademy/course-content-dl/main/tutorials/W1D2_LinearDeepLearning/static/comput_graph_full.png\" alt=\"Computation Graph full\" width=\"1200\"/></center>\n",
        "\n",
        "By breaking the computation into simple operations on intermediate variables, we can use the chain rule to calculate any gradient:\n",
        "\n",
        "\\begin{equation}\n",
        "\\dfrac{\\partial f}{\\partial x} = \\dfrac{\\partial f}{\\partial e}~\\dfrac{\\partial e}{\\partial d}~\\dfrac{\\partial d}{\\partial c}~\\dfrac{\\partial c}{\\partial a}~\\dfrac{\\partial a}{\\partial x} = \\left( 1-\\tanh^2(e) \\right) \\cdot \\frac{1}{d+1}\\cdot z \\cdot \\frac{1}{b} \\cdot 2\n",
        "\\end{equation}\n",
        "\n",
        "Conveniently, the values for $e$, $b$, and $d$ are available to us from when we did the forward pass through the graph. That is, the partial derivatives have simple expressions in terms of the intermediate variables $a,b,c,d,e$ that we calculated and stored during the forward pass.\n"
      ]
    },
    {
      "cell_type": "markdown",
      "metadata": {
        "execution": {},
        "id": "lXzhWCoIPN3l"
      },
      "source": [
        "### Analytical Exercise 1.3: Chain Rule\n",
        "For the function above, calculate the $\\dfrac{\\partial f}{\\partial y}$ using the computational graph and chain rule."
      ]
    },
    {
      "cell_type": "markdown",
      "metadata": {
        "execution": {},
        "id": "DB-Uo228PN3l"
      },
      "source": [
        "For more: [Calculus on Computational Graphs: Backpropagation](https://colah.github.io/posts/2015-08-Backprop/)"
      ]
    },
    {
      "cell_type": "markdown",
      "metadata": {
        "execution": {},
        "id": "wTWqa8G9PN3l"
      },
      "source": [
        "---\n",
        "# Section 2: PyTorch AutoGrad"
      ]
    },
    {
      "cell_type": "code",
      "metadata": {
        "execution": {},
        "id": "7sj5ByzBPN3l",
        "colab": {
          "base_uri": "https://localhost:8080/",
          "height": 518,
          "referenced_widgets": [
            "64bda6e881d949a6a3d87482e3bd0979",
            "ae234d0482a14030a590b541bef48e20"
          ]
        },
        "cellView": "form",
        "outputId": "015c5a49-41de-4a83-9337-cf8e1cc96524"
      },
      "source": [
        "# @title Video: Auto-Differentiation\n",
        "from ipywidgets import widgets\n",
        "\n",
        "out1 = widgets.Output()\n",
        "with out1:\n",
        "  from IPython.display import YouTubeVideo\n",
        "  video = YouTubeVideo(id=f\"V_Gw5cuSca4\", width=854, height=480, fs=1, rel=0)\n",
        "  print(\"Video available at https://youtube.com/watch?v=\" + video.id)\n",
        "  display(video)\n",
        "\n",
        "display(out1)"
      ],
      "execution_count": 11,
      "outputs": [
        {
          "output_type": "display_data",
          "data": {
            "application/vnd.jupyter.widget-view+json": {
              "model_id": "64bda6e881d949a6a3d87482e3bd0979",
              "version_minor": 0,
              "version_major": 2
            },
            "text/plain": [
              "Output()"
            ]
          },
          "metadata": {}
        }
      ]
    },
    {
      "cell_type": "markdown",
      "metadata": {
        "execution": {},
        "id": "rIU3cgLxPN3l"
      },
      "source": [
        "Deep learning frameworks such as PyTorch, JAX, and TensorFlow come with a very efficient and sophisticated set of algorithms, commonly known as Automatic Differentiation. AutoGrad is PyTorch's automatic differentiation engine. Here we start by covering the essentials of AutoGrad, and you will learn more in the coming days.\n",
        "\n"
      ]
    },
    {
      "cell_type": "markdown",
      "metadata": {
        "execution": {},
        "id": "XS1LlS-FPN3m"
      },
      "source": [
        "## Section 2.1: Forward Propagation\n",
        "\n",
        "Everything starts with the forward propagation (pass). PyTorch tracks all the instructions, as we declare the variables and operations, and it builds the graph when we call the `.backward()` pass. PyTorch rebuilds the graph every time we iterate or change it (or simply put, PyTorch uses a dynamic graph).\n",
        "\n",
        "For gradient descent, it is only required to have the gradients of cost function with respect to the variables we wish to learn. These variables are often called \"learnable / trainable parameters\" or simply \"parameters\" in PyTorch. In neural nets, weights and biases are often the learnable parameters. "
      ]
    },
    {
      "cell_type": "markdown",
      "metadata": {
        "execution": {},
        "id": "EWDkVpyzPN3m"
      },
      "source": [
        "### Coding Exercise 2.1: Buiding a Computational Graph\n",
        "\n",
        "In PyTorch, to indicate that a certain tensor contains learnable parameters, we can set the optional argument `requires_grad` to `True`. PyTorch will then track every operation using this tensor while configuring the computational graph. For this exercise, use the provided tensors to build the following graph, which implements a single neuron with scalar input and output.\n",
        "\n",
        "<br/>\n",
        "\n",
        "<center><img src=\"https://raw.githubusercontent.com/NeuromatchAcademy/course-content-dl/main/tutorials/W1D2_LinearDeepLearning/static/simple_graph.png\" alt=\"Simple nn graph\" width=\"600\"/></center>"
      ]
    },
    {
      "cell_type": "code",
      "metadata": {
        "execution": {},
        "id": "67oPJGWRPN3m"
      },
      "source": [
        "class SimpleGraph:\n",
        "  def __init__(self, w, b):\n",
        "    \"\"\"Initializing the SimpleGraph\n",
        "\n",
        "    Args:\n",
        "      w (float): initial value for weight\n",
        "      b (float): initial value for bias\n",
        "    \"\"\"\n",
        "    assert isinstance(w, float)\n",
        "    assert isinstance(b, float)\n",
        "    self.w = torch.tensor([w], requires_grad=True)\n",
        "    self.b = torch.tensor([b], requires_grad=True)\n",
        "\n",
        "  def forward(self, x):\n",
        "    \"\"\"Forward pass\n",
        "\n",
        "    Args:\n",
        "      x (torch.Tensor): 1D tensor of features\n",
        "\n",
        "    Returns:\n",
        "      torch.Tensor: model predictions\n",
        "    \"\"\"\n",
        "    assert isinstance(x, torch.Tensor)\n",
        "    #################################################\n",
        "    ## Implement the the forward pass to calculate prediction\n",
        "    ## Note that prediction is not the loss, but the value after `tanh`\n",
        "    # Complete the function and remove or comment the line below\n",
        "    raise NotImplementedError(\"Forward Pass `forward`\")\n",
        "    #################################################\n",
        "    prediction = ...\n",
        "    return prediction\n",
        "\n",
        "\n",
        "def sq_loss(y_true, y_prediction):\n",
        "  \"\"\"L2 loss function\n",
        "\n",
        "  Args:\n",
        "    y_true (torch.Tensor): 1D tensor of target labels\n",
        "    y_prediction (torch.Tensor): 1D tensor of predictions\n",
        "\n",
        "  Returns:\n",
        "    torch.Tensor: L2-loss (squared error)\n",
        "  \"\"\"\n",
        "  assert isinstance(y_true, torch.Tensor)\n",
        "  assert isinstance(y_prediction, torch.Tensor)\n",
        "  #################################################\n",
        "  ## Implement the L2-loss (squred error) given true label and prediction\n",
        "  # Complete the function and remove or comment the line below\n",
        "  raise NotImplementedError(\"Loss function `sq_loss`\")\n",
        "  #################################################\n",
        "  loss = ...\n",
        "  return loss\n",
        "\n",
        "\n",
        "feature = torch.tensor([1])  # input tensor\n",
        "target = torch.tensor([7])  # target tensor\n",
        "## Uncomment to run\n",
        "# simple_graph = SimpleGraph(-0.5, 0.5)\n",
        "# print(f\"initial weight = {simple_graph.w.item()}, \"\n",
        "#       f\"\\ninitial bias = {simple_graph.b.item()}\")\n",
        "# prediction = simple_graph.forward(feature)\n",
        "# square_loss = sq_loss(target, prediction)\n",
        "# print(f\"for x={feature.item()} and y={target.item()}, \"\n",
        "#       f\"prediction={prediction.item()}, and L2 Loss = {square_loss.item()}\")"
      ],
      "execution_count": 12,
      "outputs": []
    },
    {
      "cell_type": "markdown",
      "metadata": {
        "execution": {},
        "id": "n_ISP_9APN3m"
      },
      "source": [
        "It is important to appreciate the fact that PyTorch can follow our operations as we arbitrarily go through classes and functions."
      ]
    },
    {
      "cell_type": "code",
      "metadata": {
        "id": "ufocR0q3GMLj",
        "colab": {
          "base_uri": "https://localhost:8080/",
          "height": 518,
          "referenced_widgets": [
            "aa0c2401006d4eab988429d601c54262",
            "0e52c71b23d6431aa740898f611bd94d"
          ]
        },
        "cellView": "form",
        "outputId": "929bc447-ff28-4ec0-9737-eb7332e3ab68"
      },
      "source": [
        "# @title Video: Autograd details\n",
        "from ipywidgets import widgets\n",
        "\n",
        "out1 = widgets.Output()\n",
        "with out1:\n",
        "  from IPython.display import YouTubeVideo\n",
        "  video = YouTubeVideo(id=f\"QBCI5_q89wo\", width=854, height=480, fs=1, rel=0)\n",
        "  print(\"Video available at https://youtube.com/watch?v=\" + video.id)\n",
        "  display(video)\n",
        "\n",
        "display(out1)"
      ],
      "execution_count": 13,
      "outputs": [
        {
          "output_type": "display_data",
          "data": {
            "application/vnd.jupyter.widget-view+json": {
              "model_id": "aa0c2401006d4eab988429d601c54262",
              "version_minor": 0,
              "version_major": 2
            },
            "text/plain": [
              "Output()"
            ]
          },
          "metadata": {}
        }
      ]
    },
    {
      "cell_type": "markdown",
      "metadata": {
        "execution": {},
        "id": "QxrK7KlyPN3m"
      },
      "source": [
        "## Section 2.2: Backward Propagation\n",
        "\n",
        "Here is where all the magic lies. In PyTorch, `Tensor` and `Function` are interconnected and build up an acyclic graph, that encodes a complete history of computation. Each variable has a `grad_fn` attribute that references a function that has created the Tensor (except for Tensors created by the user - these have `None` as `grad_fn`).  The example below shows that the tensor `c = a + b` is created by the `Add` operation and the gradient function is the object `<AddBackward...>`. Replace `+` with other single operations (e.g., `c = a * b` or `c = torch.sin(a)`) and examine the results."
      ]
    },
    {
      "cell_type": "code",
      "metadata": {
        "execution": {},
        "id": "8vYElXbfPN3n",
        "colab": {
          "base_uri": "https://localhost:8080/"
        },
        "outputId": "e4c602bf-8cf3-491e-9ac2-58cf3388cd62"
      },
      "source": [
        "a = torch.tensor([1.0], requires_grad=True)\n",
        "b = torch.tensor([-1.0], requires_grad=True)\n",
        "c = a + b\n",
        "print(f'Gradient function = {c.grad_fn}')"
      ],
      "execution_count": 14,
      "outputs": [
        {
          "output_type": "stream",
          "name": "stdout",
          "text": [
            "Gradient function = <AddBackward0 object at 0x7fb81f0bc250>\n"
          ]
        }
      ]
    },
    {
      "cell_type": "markdown",
      "metadata": {
        "execution": {},
        "id": "yMRlOxCVPN3n"
      },
      "source": [
        "Note that for more complex functions, printing the `grad_fn` would only show the last operation, even though the object tracks all the operations up to that point."
      ]
    },
    {
      "cell_type": "markdown",
      "metadata": {
        "execution": {},
        "id": "IxeXNF8YPN3n"
      },
      "source": [
        "Now let's kick off the backward pass to calculate the gradients by calling `.backward()` on the tensor we wish to initiate the backpropagation from. Often, `.backward()` is called on the loss, which is the last node on the graph. Before doing that, let's calculate the loss gradients by hand:\n",
        "\n",
        "$$\\frac{\\partial{loss}}{\\partial{w}} = - 2 x (y_t - y_p)(1 - y_p^2)$$\n",
        "\n",
        "$$\\frac{\\partial{loss}}{\\partial{b}} = - 2 (y_t - y_p)(1 - y_p^2)$$\n",
        "\n",
        "Where $y_t$ is the target (true label), and $y_p$ is the prediction (model output). We can then compare it to PyTorch gradients, which can be obtained by calling `.grad` on the relevant tensors.\n",
        "\n",
        "**Important Notes**\n",
        "* Learnable parameters (i.e. `requires_grad` tensors) are \"contagious\". Let's look at a simple example: `Y = W @ X`, where `X` is the feature tensors and `W` is the weight tensor (learnable parameters, `requires_grad`), the newly generated output tensor `Y` will be also `requires_grad`. So any operation that is applied to `Y` will be part of the computational graph. Therefore, if we need to plot or store a tensor that is `requires_grad`, we must first `.detach()` it from the graph by calling the `.detach()` method on that tensor.\n",
        "\n",
        "\n",
        "* `.backward()` accumulates gradients in the leaf nodes (i.e., the input nodes to the node of interest). We can call `.zero_grad()` on the loss or optimizer to zero out all `.grad` attributes (see [autograd.backward](https://pytorch.org/docs/stable/autograd.html#torch.autograd.backward) for more).\n",
        "\n",
        "* Recall that in python we can access variables and associated methods with `.method_name`. You can use the command `dir(my_object)` to observe all variables and associated methods to your object, e.g., `dir(simple_graph.w)`."
      ]
    },
    {
      "cell_type": "code",
      "metadata": {
        "execution": {},
        "id": "wBrPoEo2PN3n"
      },
      "source": [
        "## Uncomment to run\n",
        "# # analytical gradients (remember detaching)\n",
        "# ana_dloss_dw = - 2 * feature * (target - prediction.detach())*(1 - prediction.detach()**2)\n",
        "# ana_dloss_db = - 2 * (target - prediction.detach())*(1 - prediction.detach()**2)\n",
        "\n",
        "# square_loss.backward()  # first we should call the backward to build the graph\n",
        "# autograd_dloss_dw = simple_graph.w.grad  # we calculate the derivative w.r.t weights\n",
        "# autograd_dloss_db = simple_graph.b.grad  # we calculate the derivative w.r.t bias\n",
        "\n",
        "# print(ana_dloss_dw == autograd_dloss_dw)\n",
        "# print(ana_dloss_db == autograd_dloss_db)"
      ],
      "execution_count": 15,
      "outputs": []
    },
    {
      "cell_type": "markdown",
      "metadata": {
        "execution": {},
        "id": "rtq-MKuzPN3n"
      },
      "source": [
        "References and more:\n",
        "* [A GENTLE INTRODUCTION TO TORCH.AUTOGRAD](https://pytorch.org/tutorials/beginner/blitz/autograd_tutorial.html)\n",
        "\n",
        "* [AUTOMATIC DIFFERENTIATION PACKAGE - TORCH.AUTOGRAD](https://pytorch.org/docs/stable/autograd.html)\n",
        "\n",
        "* [AUTOGRAD MECHANICS](https://pytorch.org/docs/stable/notes/autograd.html)\n",
        "\n",
        "* [AUTOMATIC DIFFERENTIATION WITH TORCH.AUTOGRAD](https://pytorch.org/tutorials/beginner/basics/autogradqs_tutorial.html)"
      ]
    },
    {
      "cell_type": "markdown",
      "metadata": {
        "id": "pdOLOw49ntvR"
      },
      "source": [
        "---\n",
        "# Section 3: PyTorch's Neural Net module (`nn.Module`)"
      ]
    },
    {
      "cell_type": "markdown",
      "metadata": {
        "id": "jA_kCBn8nwa_"
      },
      "source": [
        "PyTorch provides us with ready-to-use neural network building blocks, such as layers (e.g. linear, recurrent, ...), different activation and loss functions, and much more, packed in the [`torch.nn`](https://pytorch.org/docs/stable/nn.html) module. If we build a neural network using `torch.nn` layers, the weights and biases are already in `requires_grad` mode and will be registered as model parameters. \n",
        "\n",
        "For training, we need three things:\n",
        "\n",
        "*   **Model parameters** - Model parameters refer to all the learnable parameters of the model, which are accessible by calling `.parameters()` on the model. Please note that NOT all the `requires_grad` tensors are seen as model parameters. To create a custom model parameter, we can use [`nn.Parameter`](https://pytorch.org/docs/stable/generated/torch.nn.parameter.Parameter.html) (*A kind of Tensor that is to be considered a module parameter*).\n",
        "\n",
        "*   **Loss function** - The loss that we are going to be optimizing, which is often combined with regularization terms (conming up in few days).\n",
        "\n",
        "*   **Optimizer** - PyTorch provides us with many optimization methods (different versions of gradient descent). Optimizer holds the current state of the model and by calling the `step()` method, will update the parameters based on the computed gradients.\n",
        "\n",
        "You will learn more details about choosing the right model architecture, loss function, and optimizer later in the course."
      ]
    },
    {
      "cell_type": "code",
      "metadata": {
        "colab": {
          "base_uri": "https://localhost:8080/",
          "height": 518,
          "referenced_widgets": [
            "0b72edc6c9cd449ba9013e120c326f4a",
            "ec0acdae5e404ce49db289b1055d1a38"
          ]
        },
        "cellView": "form",
        "id": "OCy1Bk5hIzWT",
        "outputId": "d0c27202-fc4c-499c-cf40-76f5f56feaa5"
      },
      "source": [
        "# @title Video: Construct and Train your first Model\n",
        "from ipywidgets import widgets\n",
        "\n",
        "out1 = widgets.Output()\n",
        "with out1:\n",
        "  from IPython.display import YouTubeVideo\n",
        "  video = YouTubeVideo(id=f\"WjmQOhuhLiw\", width=854, height=480, fs=1, rel=0)\n",
        "  print(\"Video available at https://youtube.com/watch?v=\" + video.id)\n",
        "  display(video)\n",
        "\n",
        "display(out1)"
      ],
      "execution_count": 16,
      "outputs": [
        {
          "output_type": "display_data",
          "data": {
            "application/vnd.jupyter.widget-view+json": {
              "model_id": "0b72edc6c9cd449ba9013e120c326f4a",
              "version_minor": 0,
              "version_major": 2
            },
            "text/plain": [
              "Output()"
            ]
          },
          "metadata": {}
        }
      ]
    },
    {
      "cell_type": "markdown",
      "metadata": {
        "id": "kviR4PQVnyuN"
      },
      "source": [
        "## Section 3.1: Training loop in PyTorch\n",
        "\n",
        "We use a regression problem to study the training loop in PyTorch.\n",
        "\n",
        "The task is to train a wide nonlinear (using $\\tanh$ activation function) neural net for a simple $\\sin$ regression task. Wide neural networks are thought to be really good at generalization."
      ]
    },
    {
      "cell_type": "code",
      "metadata": {
        "cellView": "form",
        "id": "Gs9wboD_ns9q",
        "colab": {
          "base_uri": "https://localhost:8080/",
          "height": 375
        },
        "outputId": "bdd7442d-4c5e-4fe9-ea32-9d29aeedf36b"
      },
      "source": [
        "# @markdown #### Generate the sample dataset\n",
        "set_seed(seed=SEED)\n",
        "n_samples = 32\n",
        "inputs = torch.linspace(-1.0, 1.0, n_samples).reshape(n_samples, 1)\n",
        "noise = torch.randn(n_samples, 1) / 4\n",
        "targets = torch.sin(pi * inputs) + noise\n",
        "plt.figure(figsize=(8, 5))\n",
        "plt.scatter(inputs, targets, c='c')\n",
        "plt.xlabel('x (inputs)')\n",
        "plt.ylabel('y (targets)')\n",
        "plt.show()"
      ],
      "execution_count": 17,
      "outputs": [
        {
          "output_type": "stream",
          "name": "stdout",
          "text": [
            "Random seed 2021 has been set.\n"
          ]
        },
        {
          "output_type": "display_data",
          "data": {
            "image/png": "[encoded data removed]",
            "text/plain": [
              "<Figure size 576x360 with 1 Axes>"
            ]
          },
          "metadata": {
            "image/png": {
              "width": 558,
              "height": 341
            },
            "needs_background": "light"
          }
        }
      ]
    },
    {
      "cell_type": "markdown",
      "metadata": {
        "id": "TMcRTSW6n3nR"
      },
      "source": [
        "Let's define a very wide (512 neurons) neural net with one hidden layer and `Tanh` activation function."
      ]
    },
    {
      "cell_type": "code",
      "metadata": {
        "id": "G52ZZ5S3n_ue"
      },
      "source": [
        "## A Wide neural network with a single hidden layer\n",
        "class WideNet(nn.Module):\n",
        "\n",
        "  def __init__(self):\n",
        "    \"\"\"Initializing the WideNet\n",
        "    \"\"\"\n",
        "    n_cells = 512\n",
        "    super().__init__()\n",
        "    self.layers = nn.Sequential(\n",
        "        nn.Linear(1, n_cells),\n",
        "        nn.Tanh(),\n",
        "        nn.Linear(n_cells, 1),\n",
        "    )\n",
        "\n",
        "  def forward(self, x):\n",
        "    \"\"\"Forward pass\n",
        "\n",
        "    Args:\n",
        "      x (torch.Tensor): 2D tensor of features\n",
        "\n",
        "    Returns:\n",
        "      torch.Tensor: model predictions\n",
        "    \"\"\"\n",
        "    return self.layers(x)"
      ],
      "execution_count": 18,
      "outputs": []
    },
    {
      "cell_type": "markdown",
      "metadata": {
        "id": "tvmgqy-xoDxD"
      },
      "source": [
        "We can now create an instance of our neural net and print its parameters."
      ]
    },
    {
      "cell_type": "code",
      "metadata": {
        "id": "pk8tnCsXoFK4",
        "colab": {
          "base_uri": "https://localhost:8080/"
        },
        "outputId": "8d9e3589-97c8-4313-84cf-c20faa67dc18"
      },
      "source": [
        "# creating an instance\n",
        "set_seed(seed=SEED)\n",
        "wide_net = WideNet()\n",
        "print(wide_net)"
      ],
      "execution_count": 19,
      "outputs": [
        {
          "output_type": "stream",
          "name": "stdout",
          "text": [
            "Random seed 2021 has been set.\n",
            "WideNet(\n",
            "  (layers): Sequential(\n",
            "    (0): Linear(in_features=1, out_features=512, bias=True)\n",
            "    (1): Tanh()\n",
            "    (2): Linear(in_features=512, out_features=1, bias=True)\n",
            "  )\n",
            ")\n"
          ]
        }
      ]
    },
    {
      "cell_type": "code",
      "metadata": {
        "id": "YKGAycz0oG7q"
      },
      "source": [
        "# Create a mse loss function\n",
        "loss_function = nn.MSELoss()\n",
        "\n",
        "# Stochstic Gradient Descent optimizer (you will learn about momentum soon)\n",
        "lr = 0.003  # learning rate\n",
        "sgd_optimizer = torch.optim.SGD(wide_net.parameters(), lr=lr, momentum=0.9)"
      ],
      "execution_count": 20,
      "outputs": []
    },
    {
      "cell_type": "markdown",
      "metadata": {
        "id": "akaC5xdZoI36"
      },
      "source": [
        "The training process in PyTorch is interactive - you can perform training iterations as you wish and inspect the results after each iteration. \n",
        "\n",
        "Let's perform one training iteration. You can run the cell multiple times and see how the parameters are being updated and the loss is reducing. This code block is the core of everything to come: please make sure you go line-by-line through all the commands and discuss their purpose with the pod."
      ]
    },
    {
      "cell_type": "code",
      "metadata": {
        "id": "yrj0pwSMoLi8",
        "colab": {
          "base_uri": "https://localhost:8080/"
        },
        "outputId": "bc7f74c3-23c9-4fb2-95ed-34f4b4e97abb"
      },
      "source": [
        "# Reset all gradients to zero\n",
        "sgd_optimizer.zero_grad()\n",
        "\n",
        "# Forward pass (Compute the output of the model on the features (inputs))\n",
        "prediction = wide_net(inputs)\n",
        "\n",
        "# Compute the loss\n",
        "loss = loss_function(prediction, targets)\n",
        "print(f'Loss: {loss.item()}')\n",
        "\n",
        "# Perform backpropagation to build the graph and compute the gradients\n",
        "loss.backward()\n",
        "\n",
        "# Optimizer takes a tiny step in the steepest direction (negative of gradient)\n",
        "# and \"updates\" the weights and biases of the network\n",
        "sgd_optimizer.step()"
      ],
      "execution_count": 21,
      "outputs": [
        {
          "output_type": "stream",
          "name": "stdout",
          "text": [
            "Loss: 0.8889423608779907\n"
          ]
        }
      ]
    },
    {
      "cell_type": "markdown",
      "metadata": {
        "id": "iii5VZCQoNZL"
      },
      "source": [
        "### Coding Exercise 3.1: Training Loop\n",
        "Using everything we've learned so far, we ask you to complete the `train` function below."
      ]
    },
    {
      "cell_type": "code",
      "metadata": {
        "id": "oavTfRbuoPEL",
        "colab": {
          "base_uri": "https://localhost:8080/"
        },
        "outputId": "432a6751-757e-424a-d277-0888d3aa9bd4"
      },
      "source": [
        "def train(features, labels, model, loss_fun, optimizer, n_epochs):\n",
        "\n",
        "  \"\"\"Training function\n",
        "\n",
        "  Args:\n",
        "    features (torch.Tensor): features (input) with shape torch.Size([n_samples, 1])\n",
        "    labels (torch.Tensor): labels (targets) with shape torch.Size([n_samples, 1])\n",
        "    model (torch nn.Module): the neural network\n",
        "    loss_fun (function): loss function\n",
        "    optimizer(function): optimizer\n",
        "    n_epochs (int): number of training iterations\n",
        "\n",
        "  Returns:\n",
        "    list: record (evolution) of training losses\n",
        "  \"\"\"\n",
        "  loss_record = []  # keeping recods of loss\n",
        "\n",
        "  for i in range(n_epochs):\n",
        "    #################################################\n",
        "    ## Implement the missing parts of the training loop\n",
        "    # Complete the function and remove or comment the line below\n",
        "    raise NotImplementedError(\"Training loop `train`\")\n",
        "    #################################################\n",
        "    ...  # set gradients to 0\n",
        "    predictions = ...  # Compute model prediction (output)\n",
        "    loss = ...  # Compute the loss\n",
        "    ...  # Compute gradients (backward pass)\n",
        "    ...  # update parameters (optimizer takes a step)\n",
        "\n",
        "    loss_record.append(loss.item())\n",
        "  return loss_record\n",
        "\n",
        "\n",
        "set_seed(seed=2021)\n",
        "epochs = 1847 # Cauchy, Exercices d'analyse et de physique mathematique (1847)\n",
        "## Uncomment to run\n",
        "# losses = train(inputs, targets, wide_net, loss_function, sgd_optimizer, epochs)\n",
        "# ex3_plot(wide_net, inputs, targets, epochs, losses)"
      ],
      "execution_count": 22,
      "outputs": [
        {
          "output_type": "stream",
          "name": "stdout",
          "text": [
            "Random seed 2021 has been set.\n"
          ]
        }
      ]
    },
    {
      "cell_type": "markdown",
      "metadata": {
        "execution": {},
        "id": "n0Q80Q5lPN3q"
      },
      "source": [
        "---\n",
        "# Summary"
      ]
    },
    {
      "cell_type": "markdown",
      "metadata": {
        "execution": {},
        "id": "iNdW2-yFPN3q"
      },
      "source": [
        "In this tutorial we covered one of the most basic concepts of deep learning; the computational graph and how a network learns via gradient descent and the backpropagation algorithm. We have seen all of these using PyTorch modules and we compared the analytical solutions with the ones provided directly by the PyTorch module."
      ]
    }
  ]
}
