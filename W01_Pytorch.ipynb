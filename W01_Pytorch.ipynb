{
  "nbformat": 4,
  "nbformat_minor": 0,
  "metadata": {
    "colab": {
      "name": "W1_Pytorch.ipynb",
      "provenance": [],
      "collapsed_sections": [],
      "include_colab_link": true
    },
    "kernel": {
      "display_name": "Python 3",
      "language": "python",
      "name": "python3"
    },
    "kernelspec": {
      "display_name": "Python 3",
      "name": "python3"
    },
    "language_info": {
      "codemirror_mode": {
        "name": "ipython",
        "version": 3
      },
      "file_extension": ".py",
      "mimetype": "text/x-python",
      "name": "python",
      "nbconvert_exporter": "python",
      "pygments_lexer": "ipython3",
      "version": "3.7.11"
    },
    "accelerator": "GPU"
  },
  "cells": [
    {
      "cell_type": "markdown",
      "metadata": {
        "id": "view-in-github",
        "colab_type": "text"
      },
      "source": [
        "<a href=\"https://colab.research.google.com/github/arashash/Deep-Learning-Course-Tutorials/blob/main/W1_Pytorch.ipynb\" target=\"_parent\"><img src=\"https://colab.research.google.com/assets/colab-badge.svg\" alt=\"Open In Colab\"/></a>"
      ]
    },
    {
      "cell_type": "markdown",
      "metadata": {
        "execution": {},
        "id": "Gqpn5vHw6_qo"
      },
      "source": [
        "# Week 1: Basics and PyTorch\n",
        "**By Arash Ash, adapted from Neuromatch Academy [contents](https://github.com/NeuromatchAcademy/course-content-dl)**"
      ]
    },
    {
      "cell_type": "markdown",
      "metadata": {
        "execution": {},
        "id": "7Qo4858K6_qr"
      },
      "source": [
        "---\n",
        "# Tutorial Objectives\n",
        "\n",
        "Then have a few specific objectives for this tutorial:\n",
        "* Learn about PyTorch and tensors\n",
        "* Tensor Manipulations\n",
        "* GPUs and Cuda Tensors"
      ]
    },
    {
      "cell_type": "code",
      "metadata": {
        "execution": {},
        "id": "L9SovDn06_qs",
        "cellView": "form"
      },
      "source": [
        "# @title Tutorial slides\n",
        "\n",
        "# @markdown These are the slides for the videos in this tutorial today\n",
        "\n",
        "# @markdown If you want to locally dowload the slides, click [here](https://osf.io/wcjrv/download)\n",
        "from IPython.display import IFrame\n",
        "# IFrame(src=f\"https://mfr.ca-1.osf.io/render?url=https://osf.io/wcjrv/?direct%26mode=render%26action=download%26mode=render\", width=854, height=480)"
      ],
      "execution_count": null,
      "outputs": []
    },
    {
      "cell_type": "markdown",
      "metadata": {
        "execution": {},
        "id": "_vNzLsPt6_qt"
      },
      "source": [
        "---\n",
        "# Setup"
      ]
    },
    {
      "cell_type": "markdown",
      "metadata": {
        "execution": {},
        "id": "Me54ZTOw6_qu"
      },
      "source": [
        "Throughout your Neuromatch tutorials, most (probably all!) notebooks contain setup cells. These cells will import the required Python packages (e.g., PyTorch, NumPy); set global or environment variables, and load in helper functions for things like plotting. In some tutorials, you will notice that we install some dependencies even if they are preinstalled on google colab or kaggle. This happens because we have added automation to our repository through [GitHub Actions](https://docs.github.com/en/actions/learn-github-actions/introduction-to-github-actions).\n",
        "\n",
        "Be sure to run all of the cells in the setup section. Feel free to expand them and have a look at what you are loading in, but you should be able to fulfill the learning objectives of every tutorial without having to look at these cells.\n",
        "\n",
        "If you start building your own projects built on this code base we highly recommend looking at them in more detail."
      ]
    },
    {
      "cell_type": "code",
      "metadata": {
        "execution": {},
        "id": "tX7pzrxp6_qw"
      },
      "source": [
        "# Imports\n",
        "import time\n",
        "import torch\n",
        "import random\n",
        "import numpy as np\n",
        "import pandas as pd\n",
        "import matplotlib.pyplot as plt\n",
        "\n",
        "from torch import nn\n",
        "from torchvision import datasets\n",
        "from torchvision.transforms import ToTensor\n",
        "from torch.utils.data import DataLoader"
      ],
      "execution_count": null,
      "outputs": []
    },
    {
      "cell_type": "code",
      "metadata": {
        "cellView": "form",
        "execution": {},
        "id": "x_UpmQy86_qx"
      },
      "source": [
        "# @title Figure Settings\n",
        "import ipywidgets as widgets\n",
        "%config InlineBackend.figure_format = 'retina'\n",
        "plt.style.use(\"https://raw.githubusercontent.com/NeuromatchAcademy/content-creation/main/nma.mplstyle\")"
      ],
      "execution_count": null,
      "outputs": []
    },
    {
      "cell_type": "code",
      "metadata": {
        "execution": {},
        "id": "mbV64DSB6_qx",
        "cellView": "form"
      },
      "source": [
        "# @title Helper Functions\n",
        "def checkExercise1(A, B, C, D):\n",
        "  \"\"\"\n",
        "  Helper function for checking exercise.\n",
        "\n",
        "  Args:\n",
        "    A: torch.Tensor\n",
        "    B: torch.Tensor\n",
        "    C: torch.Tensor\n",
        "    D: torch.Tensor\n",
        "  Returns:\n",
        "    Nothing.\n",
        "  \"\"\"\n",
        "  errors = []\n",
        "  # TODO better errors and error handling\n",
        "  if not torch.equal(A.to(int),torch.ones(20, 21).to(int)):\n",
        "    errors.append(f\"Got: {A} \\n Expected: {torch.ones(20, 21)} (shape: {torch.ones(20, 21).shape})\")\n",
        "  if not np.array_equal( B.numpy(),np.vander([1, 2, 3], 4)):\n",
        "    errors.append(\"B is not a tensor containing the elements of Z \")\n",
        "  if C.shape != (20, 21):\n",
        "    errors.append(\"C is not the correct shape \")\n",
        "  if not torch.equal(D, torch.arange(4, 41, step=2)):\n",
        "    errors.append(\"D does not contain the correct elements\")\n",
        "\n",
        "  if errors == []:\n",
        "    print(\"All correct!\")\n",
        "\n",
        "  else:\n",
        "    [print(e) for e in errors]\n",
        "\n",
        "\n",
        "def timeFun(f, dim, iterations, device='cpu'):\n",
        "  iterations = iterations\n",
        "  t_total = 0\n",
        "  for _ in range(iterations):\n",
        "    start = time.time()\n",
        "    f(dim, device)\n",
        "    end = time.time()\n",
        "    t_total += end - start\n",
        "\n",
        "  if device == 'cpu':\n",
        "    print(f\"time taken for {iterations} iterations of {f.__name__}({dim}, {device}): {t_total:.5f}\")\n",
        "  else:\n",
        "    print(f\"time taken for {iterations} iterations of {f.__name__}({dim}, {device}): {t_total:.5f}\")"
      ],
      "execution_count": null,
      "outputs": []
    },
    {
      "cell_type": "markdown",
      "metadata": {
        "execution": {},
        "id": "d1-ZDOsI6_qy"
      },
      "source": [
        "*Scratch Code Cells*\n",
        "\n",
        "If you want to quickly try out something or take a look at the data you can use scratch code cells. They allow you to run Python code, but will not mess up the structure of your notebook.\n",
        "\n",
        "To open a new scratch cell go to *Insert* → *Scratch code cell*."
      ]
    },
    {
      "cell_type": "markdown",
      "metadata": {
        "execution": {},
        "id": "iqbw1IhL6_qy"
      },
      "source": [
        "# Section 1: Welcome to Deep learning course"
      ]
    },
    {
      "cell_type": "code",
      "metadata": {
        "execution": {},
        "id": "jJYRzWu26_q1",
        "cellView": "form"
      },
      "source": [
        "# @title Why DL is cool\n",
        "from ipywidgets import widgets\n",
        "\n",
        "out = widgets.Output()\n",
        "with out:\n",
        "  from IPython.display import YouTubeVideo\n",
        "  video = YouTubeVideo(id=f\"aBFHzA7ZLas\", width=854, height=480, fs=1, rel=0)\n",
        "  print(\"Video available at https://youtube.com/watch?v=\" + video.id)\n",
        "  display(video)\n",
        "\n",
        "display(out)"
      ],
      "execution_count": null,
      "outputs": []
    },
    {
      "cell_type": "markdown",
      "metadata": {
        "execution": {},
        "id": "Ho3CzfCC6_q2"
      },
      "source": [
        "---\n",
        "# Section 2: The Basics of PyTorch"
      ]
    },
    {
      "cell_type": "markdown",
      "metadata": {
        "execution": {},
        "id": "5UKewUcN6_q3"
      },
      "source": [
        "PyTorch is a Python-based scientific computing package targeted at two sets of\n",
        "audiences:\n",
        "\n",
        "-  A replacement for NumPy to use the power of GPUs\n",
        "-  A deep learning platform that provides significant flexibility\n",
        "   and speed\n",
        "\n",
        "At its core, PyTorch provides a few key features:\n",
        "\n",
        "- A multidimensional [Tensor](https://pytorch.org/docs/stable/tensors.html) object, similar to [NumPy Array](https://numpy.org/doc/stable/reference/generated/numpy.ndarray.html) but with GPU acceleration.\n",
        "- An optimized **autograd** engine for automatically computing derivatives.\n",
        "- A clean, modular API for building and deploying **deep learning models**.\n",
        "\n",
        "You can find more information about PyTorch in the appendix."
      ]
    },
    {
      "cell_type": "markdown",
      "metadata": {
        "execution": {},
        "id": "kB7JHp6w6_q3"
      },
      "source": [
        "## Section 2.1: Creating Tensors\n"
      ]
    },
    {
      "cell_type": "code",
      "metadata": {
        "execution": {},
        "id": "5Pm1wfaF6_q4",
        "cellView": "form"
      },
      "source": [
        "# @title Intro to the Pytorch and how we make tensors\n",
        "from ipywidgets import widgets\n",
        "\n",
        "out = widgets.Output()\n",
        "with out:\n",
        "  from IPython.display import YouTubeVideo\n",
        "  video = YouTubeVideo(id=f\"U4LiFaVsKjM\", width=854, height=480, fs=1, rel=0)\n",
        "  print(\"Video available at https://youtube.com/watch?v=\" + video.id)\n",
        "  display(video)\n",
        "\n",
        "display(out)"
      ],
      "execution_count": null,
      "outputs": []
    },
    {
      "cell_type": "markdown",
      "metadata": {
        "execution": {},
        "id": "4DCVq6lE6_q4"
      },
      "source": [
        "There are various ways of creating tensors, and when doing any real deep learning project we will usually have to do so."
      ]
    },
    {
      "cell_type": "markdown",
      "metadata": {
        "execution": {},
        "id": "JK4zib5f6_q4"
      },
      "source": [
        "**Construct tensors directly:**\n",
        "\n",
        "---\n",
        "\n"
      ]
    },
    {
      "cell_type": "code",
      "metadata": {
        "execution": {},
        "id": "-3ZohxMW6_q5"
      },
      "source": [
        "# we can construct a tensor directly from some common python iterables,\n",
        "# such as list and tuple nested iterables can also be handled as long as the\n",
        "# dimensions make sense\n",
        "\n",
        "# tensor from a list\n",
        "a = torch.tensor([0, 1, 2])\n",
        "\n",
        "#tensor from a tuple of tuples\n",
        "b = ((1.0, 1.1), (1.2, 1.3))\n",
        "b = torch.tensor(b)\n",
        "\n",
        "# tensor from a numpy array\n",
        "c = np.ones([2, 3])\n",
        "c = torch.tensor(c)\n",
        "\n",
        "print(f\"Tensor a: {a}\")\n",
        "print(f\"Tensor b: {b}\")\n",
        "print(f\"Tensor c: {c}\")"
      ],
      "execution_count": null,
      "outputs": []
    },
    {
      "cell_type": "markdown",
      "metadata": {
        "execution": {},
        "id": "IWYIKvNs6_q5"
      },
      "source": [
        "**Some common tensor constructors:**\n",
        "\n",
        "---"
      ]
    },
    {
      "cell_type": "code",
      "metadata": {
        "execution": {},
        "id": "en0FSS-J6_q5"
      },
      "source": [
        "# the numerical arguments we pass to these constructors\n",
        "# determine the shape of the output tensor\n",
        "\n",
        "x = torch.ones(5, 3)\n",
        "y = torch.zeros(2)\n",
        "z = torch.empty(1, 1, 5)\n",
        "print(f\"Tensor x: {x}\")\n",
        "print(f\"Tensor y: {y}\")\n",
        "print(f\"Tensor z: {z}\")"
      ],
      "execution_count": null,
      "outputs": []
    },
    {
      "cell_type": "markdown",
      "metadata": {
        "execution": {},
        "id": "K0K019476_q6"
      },
      "source": [
        "Notice that ```.empty()``` does not return zeros, but seemingly random small numbers. Unlike ```.zeros()```, which initialises the elements of the tensor with zeros, ```.empty()``` just allocates the memory. It is hence a bit faster if you are looking to just create a tensor."
      ]
    },
    {
      "cell_type": "markdown",
      "metadata": {
        "execution": {},
        "id": "ve2iBnhx6_q6"
      },
      "source": [
        "**Creating random tensors and tensors like other tensors:**\n",
        "\n",
        "---"
      ]
    },
    {
      "cell_type": "code",
      "metadata": {
        "execution": {},
        "id": "39UTpRwU6_q6"
      },
      "source": [
        "# there are also constructors for random numbers\n",
        "\n",
        "# uniform distribution\n",
        "a = torch.rand(1, 3)\n",
        "\n",
        "# normal distribution\n",
        "b = torch.randn(3, 4)\n",
        "\n",
        "# there are also constructors that allow us to construct\n",
        "# a tensor according to the above constructors, but with\n",
        "# dimensions equal to another tensor\n",
        "\n",
        "c = torch.zeros_like(a)\n",
        "d = torch.rand_like(c)\n",
        "\n",
        "print(f\"Tensor a: {a}\")\n",
        "print(f\"Tensor b: {b}\")\n",
        "print(f\"Tensor c: {c}\")\n",
        "print(f\"Tensor d: {d}\")"
      ],
      "execution_count": null,
      "outputs": []
    },
    {
      "cell_type": "markdown",
      "metadata": {
        "execution": {},
        "id": "PQhfLvK46_q6"
      },
      "source": [
        "*Reproducibility*: \n",
        "\n",
        "- PyTorch random number generator: You can use `torch.manual_seed()` to seed the RNG for all devices (both CPU and CUDA)\n",
        "\n",
        "```python\n",
        "import torch\n",
        "torch.manual_seed(0)\n",
        "```\n",
        "- For custom operators, you might need to set python seed as well:\n",
        "\n",
        "```python\n",
        "import random\n",
        "random.seed(0)\n",
        "```\n",
        "\n",
        "- Random number generators in other libraries\n",
        "\n",
        "```python\n",
        "import numpy as np\n",
        "np.random.seed(0)\n",
        "```\n"
      ]
    },
    {
      "cell_type": "markdown",
      "metadata": {
        "execution": {},
        "id": "PTZoYx896_q6"
      },
      "source": [
        "Here, we define for you a function called `set_seed` that does the job for you!"
      ]
    },
    {
      "cell_type": "code",
      "metadata": {
        "execution": {},
        "id": "sPAPJzcs6_q7"
      },
      "source": [
        "def set_seed(seed=None, seed_torch=True):\n",
        "  \"\"\"\n",
        "  Function that controls randomness. NumPy and random modules must be imported.\n",
        "\n",
        "  Args:\n",
        "    seed : Integer\n",
        "      A non-negative integer that defines the random state. Default is `None`.\n",
        "    seed_torch : Boolean\n",
        "      If `True` sets the random seed for pytorch tensors, so pytorch module\n",
        "      must be imported. Default is `True`.\n",
        "\n",
        "  Returns:\n",
        "    Nothing.\n",
        "  \"\"\"\n",
        "  if seed is None:\n",
        "    seed = np.random.choice(2 ** 32)\n",
        "  random.seed(seed)\n",
        "  np.random.seed(seed)\n",
        "  if seed_torch:\n",
        "    torch.manual_seed(seed)\n",
        "    torch.cuda.manual_seed_all(seed)\n",
        "    torch.cuda.manual_seed(seed)\n",
        "    torch.backends.cudnn.benchmark = False\n",
        "    torch.backends.cudnn.deterministic = True\n",
        "\n",
        "  print(f'Random seed {seed} has been set.')"
      ],
      "execution_count": null,
      "outputs": []
    },
    {
      "cell_type": "markdown",
      "metadata": {
        "execution": {},
        "id": "Fd_mS7r26_q7"
      },
      "source": [
        "Now, let's use the `set_seed` function in the previous example. Execute the cell multiple times to verify that the numbers printed are always the same."
      ]
    },
    {
      "cell_type": "code",
      "metadata": {
        "execution": {},
        "id": "v-v9_DpW6_q7"
      },
      "source": [
        "def simplefun(seed=True, my_seed=None):\n",
        "  if seed:\n",
        "    set_seed(seed=my_seed)\n",
        "\n",
        "  # uniform distribution\n",
        "  a = torch.rand(1, 3)\n",
        "  # normal distribution\n",
        "  b = torch.randn(3, 4)\n",
        "\n",
        "  print(\"Tensor a: \", a)\n",
        "  print(\"Tensor b: \", b)"
      ],
      "execution_count": null,
      "outputs": []
    },
    {
      "cell_type": "code",
      "metadata": {
        "execution": {},
        "id": "eAsoY1nU6_q7"
      },
      "source": [
        "simplefun(seed=True, my_seed=0)  # Turn `seed` to `False` or change `my_seed`"
      ],
      "execution_count": null,
      "outputs": []
    },
    {
      "cell_type": "markdown",
      "metadata": {
        "execution": {},
        "id": "mfz5Po6i6_q7"
      },
      "source": [
        "**Numpy-like number ranges:**\n",
        "---\n",
        "The ```.arange()``` and ```.linspace()``` behave how you would expect them to if you are familar with numpy."
      ]
    },
    {
      "cell_type": "code",
      "metadata": {
        "execution": {},
        "id": "O2vm2tFg6_q7"
      },
      "source": [
        "a = torch.arange(0, 10, step=1)\n",
        "b = np.arange(0, 10, step=1)\n",
        "\n",
        "c = torch.linspace(0, 5, steps=11)\n",
        "d = np.linspace(0, 5, num=11)\n",
        "\n",
        "print(f\"Tensor a: {a}\\n\")\n",
        "print(f\"Numpy array b: {b}\\n\")\n",
        "print(f\"Tensor c: {c}\\n\")\n",
        "print(f\"Numpy array d: {d}\\n\")"
      ],
      "execution_count": null,
      "outputs": []
    },
    {
      "cell_type": "markdown",
      "metadata": {
        "execution": {},
        "id": "T7PF6eUG6_q8"
      },
      "source": [
        "### Coding Exercise 2.1: Creating Tensors\n",
        "\n",
        "Below you will find some incomplete code. Fill in the missing code to construct the specified tensors.\n",
        "\n",
        "We want the tensors: \n",
        "\n",
        "$A:$ 20 by 21 tensor consisting of ones\n",
        "\n",
        "$B:$ a tensor with elements equal to the elements of numpy array $Z$\n",
        "\n",
        "$C:$ a tensor with the same number of elements as $A$ but with values $\n",
        "\\sim U(0,1)$\n",
        "\n",
        "$D:$ a 1D tensor containing the even numbers between 4 and 40 inclusive.\n"
      ]
    },
    {
      "cell_type": "code",
      "metadata": {
        "execution": {},
        "id": "7KgO27AA6_q8"
      },
      "source": [
        "def tensor_creation(Z):\n",
        "  \"\"\"A function that creates various tensors.\n",
        "\n",
        "  Args:\n",
        "    Z (numpy.ndarray): An array of shape\n",
        "\n",
        "  Returns:\n",
        "    A : 20 by 21 tensor consisting of ones\n",
        "    B : pytorch tensor equivalent to numpy array Z\n",
        "    C : a tensor with the same number of elements as A but with values ∼U(0,1)\n",
        "    D : a 1D tensor containing the even numbers between 4 and 40 inclusive.\n",
        "  \"\"\"\n",
        "  #################################################\n",
        "  ## TODO for students: fill in the missing code\n",
        "  ## from the first expression\n",
        "  raise NotImplementedError(\"Student exercise: say what they should have done\")\n",
        "  #################################################\n",
        "  A = ...\n",
        "  B = ...\n",
        "  C = ...\n",
        "  D = ...\n",
        "\n",
        "  return A, B, C, D\n",
        "\n",
        "# numpy array to copy later\n",
        "Z = np.vander([1, 2, 3], 4)\n",
        "\n",
        "# Uncomment below to check your function!\n",
        "# A, B, C, D = tensor_creation(Z)\n",
        "# checkExercise1(A, B, C, D)"
      ],
      "execution_count": null,
      "outputs": []
    },
    {
      "cell_type": "markdown",
      "metadata": {
        "execution": {},
        "id": "i6VNXbpY6_q8"
      },
      "source": [
        "## Section 2.2: Operations in PyTorch\n",
        "\n",
        "**Tensor-Tensor operations**\n",
        "\n",
        "We can perform operations on tensors using methods under ```torch.``` \n",
        "\n"
      ]
    },
    {
      "cell_type": "code",
      "metadata": {
        "execution": {},
        "id": "bYUUTgiU6_q9",
        "cellView": "form"
      },
      "source": [
        "# @title Basic stuff we can do with Pytorch Tensors\n",
        "from ipywidgets import widgets\n",
        "\n",
        "out = widgets.Output()\n",
        "with out:\n",
        "  from IPython.display import YouTubeVideo\n",
        "  video = YouTubeVideo(id=f\"8TFVkcm0z4s\", width=854, height=480, fs=1, rel=0)\n",
        "  print(\"Video available at https://youtube.com/watch?v=\" + video.id)\n",
        "  display(video)\n",
        "\n",
        "display(out)"
      ],
      "execution_count": null,
      "outputs": []
    },
    {
      "cell_type": "markdown",
      "metadata": {
        "execution": {},
        "id": "dwvNhv3c6_q9"
      },
      "source": [
        "**Tensor-Tensor operations**\n",
        "\n",
        "We can perform operations on tensors using methods under ```torch.``` "
      ]
    },
    {
      "cell_type": "code",
      "metadata": {
        "execution": {},
        "id": "6tUR1DXp6_q9"
      },
      "source": [
        "a = torch.ones(5, 3)\n",
        "b = torch.rand(5, 3)\n",
        "c = torch.empty(5, 3)\n",
        "d = torch.empty(5, 3)\n",
        "\n",
        "# this only works if c and d already exist\n",
        "torch.add(a, b, out=c)\n",
        "#Pointwise Multiplication of a and b\n",
        "torch.multiply(a, b, out=d)\n",
        "print(c)\n",
        "print(d)"
      ],
      "execution_count": null,
      "outputs": []
    },
    {
      "cell_type": "markdown",
      "metadata": {
        "execution": {},
        "id": "NTDxhy_36_q9"
      },
      "source": [
        "However, in PyTorch most common Python operators are overridden.\n",
        "The common standard arithmetic operators (+, -, *, /, and **) have all been lifted to elementwise operations"
      ]
    },
    {
      "cell_type": "code",
      "metadata": {
        "execution": {},
        "id": "fpxJuCxr6_q9"
      },
      "source": [
        "x = torch.tensor([1, 2, 4, 8])\n",
        "y = torch.tensor([1, 2, 3, 4])\n",
        "x + y, x - y, x * y, x / y, x**y  # The ** operator is exponentiation"
      ],
      "execution_count": null,
      "outputs": []
    },
    {
      "cell_type": "markdown",
      "metadata": {
        "execution": {},
        "id": "9TQ2Y9YI6_q9"
      },
      "source": [
        "**Tensor Methods**"
      ]
    },
    {
      "cell_type": "markdown",
      "metadata": {
        "execution": {},
        "id": "qg2jJf7N6_q9"
      },
      "source": [
        "Tensors also have a number of common arithmetic operations built in. A full list of **all** methods can be found  in the appendix (there are a lot!) \n",
        "\n",
        "All of these operations should have similar syntax to their numpy equivalents.(Feel free to skip if you already know this!)"
      ]
    },
    {
      "cell_type": "code",
      "metadata": {
        "execution": {},
        "id": "LRVyeL3e6_q9"
      },
      "source": [
        "x = torch.rand(3, 3)\n",
        "print(x)\n",
        "print(\"\\n\")\n",
        "# sum() - note the axis is the axis you move across when summing\n",
        "print(f\"Sum of every element of x: {x.sum()}\")\n",
        "print(f\"Sum of the columns of x: {x.sum(axis=0)}\")\n",
        "print(f\"Sum of the rows of x: {x.sum(axis=1)}\")\n",
        "print(\"\\n\")\n",
        "\n",
        "print(f\"Mean value of all elements of x {x.mean()}\")\n",
        "print(f\"Mean values of the columns of x {x.mean(axis=0)}\")\n",
        "print(f\"Mean values of the rows of x {x.mean(axis=1)}\")"
      ],
      "execution_count": null,
      "outputs": []
    },
    {
      "cell_type": "markdown",
      "metadata": {
        "execution": {},
        "id": "KYlisSwj6_q-"
      },
      "source": [
        "**Matrix Operations**\n",
        "\n",
        "The ```@``` symbol is overridden to represent matrix multiplication. You can also use ```torch.matmul()``` to multiply tensors. For dot multiplication, you can use ```torch.dot()```, or manipulate the axes of your tensors and do matrix multiplication (we will cover that in the next section). \n",
        "\n",
        "Transposes of 2D tensors are obtained using ```torch.t()``` or ```Tensor.T```. Note the lack of brackets for ```Tensor.T``` - it is an attribute, not a method."
      ]
    },
    {
      "cell_type": "markdown",
      "metadata": {
        "execution": {},
        "id": "MXArPdoZ6_q-"
      },
      "source": [
        "### Coding Exercise 2.2 : Simple tensor operations\n",
        "\n",
        "Below are two expressions involving operations on matrices. \n",
        "\n",
        "$$ \\textbf{A} = \n",
        "\\begin{bmatrix}2 &4 \\\\5 & 7 \n",
        "\\end{bmatrix} \n",
        "\\begin{bmatrix} 1 &1 \\\\2 & 3\n",
        "\\end{bmatrix} \n",
        " + \n",
        "\\begin{bmatrix}10 & 10  \\\\ 12 & 1 \n",
        "\\end{bmatrix} \n",
        "$$\n",
        "\n",
        "\n",
        "and\n",
        "\n",
        "\n",
        "$$ b = \n",
        "\\begin{bmatrix} 3 \\\\ 5 \\\\ 7\n",
        "\\end{bmatrix} \\cdot \n",
        "\\begin{bmatrix} 2 \\\\ 4 \\\\ 8\n",
        "\\end{bmatrix}\n",
        "$$\n",
        "\n",
        "The code block below that computes these expressions using PyTorch is incomplete - fill in the missing lines.\n",
        "\n"
      ]
    },
    {
      "cell_type": "code",
      "metadata": {
        "execution": {},
        "id": "dVcs2eT96_q-"
      },
      "source": [
        "def simple_operations(a1: torch.Tensor, a2: torch.Tensor, a3: torch.Tensor):\n",
        "  ################################################\n",
        "  ## TODO for students:  complete the first computation using the argument matricies\n",
        "  raise NotImplementedError(\"Student exercise: fill in the missing code to complete the operation\")\n",
        "  ################################################\n",
        "  # multiplication of tensor a1 with tensor a2 and then add it with tensor a3\n",
        "  answer = ...\n",
        "  return answer\n",
        "\n",
        "# init our tensors\n",
        "a1 = torch.tensor([[2, 4], [5, 7]])\n",
        "a2 = torch.tensor([[1, 1], [2, 3]])\n",
        "a3 = torch.tensor([[10, 10], [12, 1]])\n",
        "## uncomment to test your function\n",
        "# A = simple_operations(a1, a2, a3)\n",
        "# print(A)"
      ],
      "execution_count": null,
      "outputs": []
    },
    {
      "cell_type": "markdown",
      "metadata": {
        "execution": {},
        "id": "TfOO0j726_q_"
      },
      "source": [
        "```\n",
        "Answer: tensor([[20, 24],\n",
        "                [31, 27]])\n",
        "```"
      ]
    },
    {
      "cell_type": "code",
      "metadata": {
        "execution": {},
        "id": "tVXWv_7A6_q_"
      },
      "source": [
        "def dot_product(b1: torch.Tensor, b2: torch.Tensor):\n",
        "  ###############################################\n",
        "  ## TODO for students:  complete the first computation using the argument matricies\n",
        "  raise NotImplementedError(\"Student exercise: fill in the missing code to complete the operation\")\n",
        "  ###############################################\n",
        "  # Use torch.dot() to compute the dot product of two tensors\n",
        "  product = ...\n",
        "  return product\n",
        "\n",
        "\n",
        "# Computing expression 2:\n",
        "b1 = torch.tensor([3, 5, 7])\n",
        "b2 = torch.tensor([2, 4, 8])\n",
        "## Uncomment to test your function\n",
        "# b = dot_product(b1, b2)\n",
        "# print(b)"
      ],
      "execution_count": null,
      "outputs": []
    },
    {
      "cell_type": "markdown",
      "metadata": {
        "execution": {},
        "id": "BPSXqll76_q_"
      },
      "source": [
        "```\n",
        "Answer: tensor(82)\n",
        "```"
      ]
    },
    {
      "cell_type": "markdown",
      "metadata": {
        "execution": {},
        "id": "hc45gz2_6_q_"
      },
      "source": [
        "## Section 2.3 Manipulating Tensors in Pytorch\n",
        "\n"
      ]
    },
    {
      "cell_type": "code",
      "metadata": {
        "execution": {},
        "id": "MtbZy5Wx6_q_"
      },
      "source": [
        "# @title Pytorch Tensor Operations\n",
        "from ipywidgets import widgets\n",
        "\n",
        "out = widgets.Output()\n",
        "with out:\n",
        "  from IPython.display import YouTubeVideo\n",
        "  video = YouTubeVideo(id=f\"NRb8epmPDKQ\", width=854, height=480, fs=1, rel=0)\n",
        "  print(\"Video available at https://youtube.com/watch?v=\" + video.id)\n",
        "  display(video)\n",
        "\n",
        "display(out)"
      ],
      "execution_count": null,
      "outputs": []
    },
    {
      "cell_type": "markdown",
      "metadata": {
        "execution": {},
        "id": "JHQBfXvN6_rA"
      },
      "source": [
        "**Indexing**\n",
        "\n",
        "Just as in numpy, elements in a tensor can be accessed by index. As in any numpy array, the first element has index 0 and ranges are specified to include the first but before the last element. We can access elements according to their relative position to the end of the list by using negative indices. Indexing is also referred to as slicing.\n",
        "\n",
        "For example, [-1] selects the last element; [1:3] selects the second and the third elements, and [:-2] will select all elements excluding the last and second-to-last elements."
      ]
    },
    {
      "cell_type": "code",
      "metadata": {
        "execution": {},
        "id": "9K6M4q_n6_rA"
      },
      "source": [
        "x = torch.arange(0, 10)\n",
        "print(x)\n",
        "print(x[-1])\n",
        "print(x[1:3])\n",
        "print(x[:-2])"
      ],
      "execution_count": null,
      "outputs": []
    },
    {
      "cell_type": "markdown",
      "metadata": {
        "execution": {},
        "id": "CZ3gcpMh6_rA"
      },
      "source": [
        "When we have multidimensional tensors, indexing rules work the same way as numpy."
      ]
    },
    {
      "cell_type": "code",
      "metadata": {
        "execution": {},
        "id": "ajJqIiHw6_rA"
      },
      "source": [
        "# make a 5D tensor\n",
        "x = torch.rand(1, 2, 3, 4, 5)\n",
        "\n",
        "print(f\" shape of x[0]:{x[0].shape}\")\n",
        "print(f\" shape of x[0][0]:{x[0][0].shape}\")\n",
        "print(f\" shape of x[0][0][0]:{x[0][0][0].shape}\")"
      ],
      "execution_count": null,
      "outputs": []
    },
    {
      "cell_type": "markdown",
      "metadata": {
        "execution": {},
        "id": "mfnAx07w6_rA"
      },
      "source": [
        "**Flatten and reshape**\n",
        "\n",
        "There are various methods for reshaping tensors. It is common to have to express 2D data in 1D format. Similarly, it is also common to have to reshape a 1D tensor into a 2D tensor. We can achieve this with the ```.flatten()``` and ```.reshape()``` methods."
      ]
    },
    {
      "cell_type": "code",
      "metadata": {
        "execution": {},
        "id": "Sm1Zn2EZ6_rB"
      },
      "source": [
        "z = torch.arange(12).reshape(6, 2)\n",
        "print(f\"Original z: \\n {z}\")\n",
        "\n",
        "# 2D -> 1D\n",
        "z = z.flatten()\n",
        "print(f\"Flattened z: \\n {z}\")\n",
        "\n",
        "# and back to 2D\n",
        "z = z.reshape(3, 4)\n",
        "print(f\"Reshaped (3x4) z: \\n {z}\")"
      ],
      "execution_count": null,
      "outputs": []
    },
    {
      "cell_type": "markdown",
      "metadata": {
        "execution": {},
        "id": "UZX4-rTe6_rB"
      },
      "source": [
        "You will also see the ```.view()``` methods used a lot to reshape tensors. There is a subtle difference between ```.view()``` and ```.reshape()```, though for now we will just use ```.reshape()```. The documentation can be found in the appendix."
      ]
    },
    {
      "cell_type": "markdown",
      "metadata": {
        "execution": {},
        "id": "-m5T08qH6_rB"
      },
      "source": [
        "**Squeezing tensors**\n",
        "\n",
        "When processing batches of data, you will quite often be left with singleton dimensions. e.g. [1,10] or [256, 1, 3]. This dimension can quite easily mess up your matrix operations if you don't plan on it being there...\n",
        "\n",
        "In order to compress tensors along their singleton dimensions we can use the ```.squeeze()``` method. We can use the ```.unsqueeze()``` method to do the opposite. \n"
      ]
    },
    {
      "cell_type": "code",
      "metadata": {
        "execution": {},
        "id": "SLv4hlqN6_rB"
      },
      "source": [
        "x = torch.randn(1, 10)\n",
        "# printing the zeroth element of the tensor will not give us the first number!\n",
        "\n",
        "print(x.shape)\n",
        "print(f\"x[0]: {x[0]}\")"
      ],
      "execution_count": null,
      "outputs": []
    },
    {
      "cell_type": "markdown",
      "metadata": {
        "execution": {},
        "id": "e4Tzs0aY6_rB"
      },
      "source": [
        " Because of that pesky singleton dimension, x[0] gave us the first row instead!\n",
        "\n"
      ]
    },
    {
      "cell_type": "code",
      "metadata": {
        "execution": {},
        "id": "6143YnFI6_rB"
      },
      "source": [
        "# lets get rid of that singleton dimension and see what happens now\n",
        "x = x.squeeze(0)\n",
        "print(x.shape)\n",
        "print(f\"x[0]: {x[0]}\")"
      ],
      "execution_count": null,
      "outputs": []
    },
    {
      "cell_type": "code",
      "metadata": {
        "execution": {},
        "id": "mvfQND_o6_rB"
      },
      "source": [
        "# adding singleton dimensions works a similar way, and is often used when tensors\n",
        "# being added need same number of dimensions\n",
        "\n",
        "y = torch.randn(5, 5)\n",
        "print(f\"shape of y: {y.shape}\")\n",
        "\n",
        "# lets insert a singleton dimension\n",
        "y = y.unsqueeze(1)\n",
        "print(f\"shape of y: {y.shape}\")"
      ],
      "execution_count": null,
      "outputs": []
    },
    {
      "cell_type": "markdown",
      "metadata": {
        "execution": {},
        "id": "xh8ODJ4_6_rC"
      },
      "source": [
        "**Permutation**\n",
        "Sometimes our dimensions will be in the wrong order! For example, we may be dealing with RGB images with dim [3x48x64], but our pipeline expects the colour dimension to be the last dimension i.e. [48x64x3]. To get around this we can use ```.permute()```\n"
      ]
    },
    {
      "cell_type": "code",
      "metadata": {
        "execution": {},
        "id": "_Eb79c826_rC"
      },
      "source": [
        "# `x` has dimensions [color,image_height,image_width]\n",
        "x = torch.rand(3, 48, 64)\n",
        "\n",
        "# we want to permute our tensor to be [ image_height , image_width , color ]\n",
        "x = x.permute(1, 2, 0)\n",
        "# permute(1,2,0) means:\n",
        "# the 0th dim of my new tensor = the 1st dim of my old tensor\n",
        "# the 1st dim of my new tensor = the 2nd\n",
        "# the 2nd dim of my new tensor = the 0th\n",
        "print(x.shape)"
      ],
      "execution_count": null,
      "outputs": []
    },
    {
      "cell_type": "markdown",
      "metadata": {
        "execution": {},
        "id": "hRuLqrW06_rC"
      },
      "source": [
        "You may also see ```.transpose()``` used. This works in a similar way as permute, but can only swap two dimensions at once."
      ]
    },
    {
      "cell_type": "markdown",
      "metadata": {
        "execution": {},
        "id": "YQIAizfr6_rC"
      },
      "source": [
        "**Concatenation**"
      ]
    },
    {
      "cell_type": "markdown",
      "metadata": {
        "execution": {},
        "id": "DvtcKjqy6_rC"
      },
      "source": [
        "In this example, we concatenate two matrices along rows (axis 0, the first element of the shape) vs. columns (axis 1, the second element of the shape). We can see that the first output tensor’s axis-0 length ( 6 ) is the sum of the two input tensors’ axis-0 lengths ( 3+3 ); while the second output tensor’s axis-1 length ( 8 ) is the sum of the two input tensors’ axis-1 lengths ( 4+4 )."
      ]
    },
    {
      "cell_type": "code",
      "metadata": {
        "execution": {},
        "id": "RdEdFbJz6_rC"
      },
      "source": [
        "# Create two tensors of the same shape\n",
        "x = torch.arange(12, dtype=torch.float32).reshape((3, 4))\n",
        "y = torch.tensor([[2.0, 1, 4, 3], [1, 2, 3, 4], [4, 3, 2, 1]])\n",
        "\n",
        "\n",
        "#concatenate them along rows\n",
        "cat_rows = torch.cat((x, y), dim=0)\n",
        "\n",
        "# concatenate along columns\n",
        "cat_cols = torch.cat((x, y), dim=1)\n",
        "\n",
        "# printing outputs\n",
        "print('Concatenated by rows: shape{} \\n {}'.format(list(cat_rows.shape), cat_rows))\n",
        "print('\\n Concatenated by colums: shape{}  \\n {}'.format(list(cat_cols.shape), cat_cols))"
      ],
      "execution_count": null,
      "outputs": []
    },
    {
      "cell_type": "markdown",
      "metadata": {
        "execution": {},
        "id": "K0SSauCA6_rC"
      },
      "source": [
        "**Conversion to Other Python Objects**\n",
        "\n",
        "Converting to a NumPy tensor, or vice versa, is easy. The converted result does not share memory. This minor inconvenience is actually quite important: when you perform operations on the CPU or on GPUs, you do not want to halt computation, waiting to see whether the NumPy package of Python might want to be doing something else with the same chunk of memory.\n",
        "\n",
        "When converting to a numpy array, the information being tracked by the tensor will be lost i.e. the computational graph. This will be covered in detail when you are introduced to autograd tomorrow! "
      ]
    },
    {
      "cell_type": "code",
      "metadata": {
        "execution": {},
        "id": "wsBAQArc6_rC"
      },
      "source": [
        "x = torch.randn(5)\n",
        "print(f\"x: {x}  |  x type:  {x.type()}\")\n",
        "\n",
        "y = x.numpy()\n",
        "print(f\"y: {y}  |  y type:  {type(y)}\")\n",
        "\n",
        "z = torch.tensor(y)\n",
        "print(f\"z: {z}  |  z type:  {z.type()}\")"
      ],
      "execution_count": null,
      "outputs": []
    },
    {
      "cell_type": "markdown",
      "metadata": {
        "execution": {},
        "id": "WS7KFH266_rC"
      },
      "source": [
        "To convert a size-1 tensor to a Python scalar, we can invoke the item function or Python’s built-in functions."
      ]
    },
    {
      "cell_type": "code",
      "metadata": {
        "execution": {},
        "id": "oLTVzQsR6_rD"
      },
      "source": [
        "a = torch.tensor([3.5])\n",
        "a, a.item(), float(a), int(a)"
      ],
      "execution_count": null,
      "outputs": []
    },
    {
      "cell_type": "markdown",
      "metadata": {
        "execution": {},
        "id": "LNJRP_bj6_rD"
      },
      "source": [
        "### Coding Exercise 2.3: Manipulating Tensors\n",
        "Using a combination of the methods discussed above, complete the functions below."
      ]
    },
    {
      "cell_type": "markdown",
      "metadata": {
        "execution": {},
        "id": "Z0D2PyDU6_rD"
      },
      "source": [
        "**Function A** \n",
        "\n",
        "This function takes in two 2D tensors $A$ and $B$ and returns the column sum of A multiplied by the sum of all the elmements of $B$ i.e. a scalar, e.g.,:\n",
        "\n",
        "$ A = \\begin{bmatrix}\n",
        "1 & 1 \\\\\n",
        "1 & 1 \n",
        "\\end{bmatrix} \\,$\n",
        "and\n",
        "$ B = \\begin{bmatrix}\n",
        "1 & 2 & 3\\\\\n",
        "1 & 2 & 3 \n",
        "\\end{bmatrix} \\,$\n",
        "so\n",
        "$ \\, Out =  \\begin{bmatrix} 2 & 2 \\\\\n",
        "\\end{bmatrix} \\cdot 12 = \\begin{bmatrix}\n",
        "24 & 24\\\\\n",
        "\\end{bmatrix}$\n",
        "\n",
        "**Function B** \n",
        "\n",
        "This function takes in a square matrix $C$ and returns a 2D tensor consisting of a flattened $C$ with the index of each element appended to this tensor in the row dimension, e.g.,:\n",
        "\n",
        "$ C = \\begin{bmatrix}\n",
        "2 & 3 \\\\\n",
        "-1 & 10 \n",
        "\\end{bmatrix} \\,$\n",
        "so\n",
        "$ \\, Out = \\begin{bmatrix}\n",
        "0 & 2 \\\\\n",
        "1 & 3 \\\\\n",
        "2 & -1 \\\\\n",
        "3 & 10\n",
        "\\end{bmatrix}$\n",
        "\n",
        "**Hint:** pay close attention to singleton dimensions\n",
        "\n",
        "**Function C**\n",
        "\n",
        "This function takes in two 2D tensors $D$ and $E$. If the dimensions allow it, this function returns the elementwise sum of $D$-shaped $E$, and $D$; else this function returns a 1D tensor that is the concatenation of the two tensors, e.g.,:\n",
        "\n",
        "$ D = \\begin{bmatrix}\n",
        "1 & -1 \\\\\n",
        "-1 & 3 \n",
        "\\end{bmatrix} \\,$\n",
        "and \n",
        "$ E = \\begin{bmatrix}\n",
        "2 & 3 & 0 & 2 \\\\\n",
        "\\end{bmatrix} \\, $\n",
        "so\n",
        "$ \\, Out = \\begin{bmatrix}\n",
        "3 & 2 \\\\\n",
        "-1 & 5 \n",
        "\\end{bmatrix}$\n",
        "\n",
        "$ D = \\begin{bmatrix}\n",
        "1 & -1 \\\\\n",
        "-1 & 3 \n",
        "\\end{bmatrix}$\n",
        "and\n",
        "$ \\, E = \\begin{bmatrix}\n",
        "2 & 3 & 0  \\\\\n",
        "\\end{bmatrix} \\,$\n",
        "so\n",
        "$ \\, Out = \\begin{bmatrix}\n",
        "1 & -1 & -1 & 3  & 2 & 3 & 0  \n",
        "\\end{bmatrix}$\n",
        "\n",
        "**Hint:** `torch.numel()` is an easy way of finding the number of elements in a tensor\n"
      ]
    },
    {
      "cell_type": "code",
      "metadata": {
        "execution": {},
        "id": "zNhNr8iU6_rD"
      },
      "source": [
        "def functionA(my_tensor1, my_tensor2):\n",
        "  \"\"\"\n",
        "  This function takes in two 2D tensors `my_tensor1` and `my_tensor2`\n",
        "  and returns the column sum of\n",
        "  `my_tensor1` multiplied by the sum of all the elmements of `my_tensor2`,\n",
        "  i.e., a scalar.\n",
        "\n",
        "  Args:\n",
        "    my_tensor1: torch.Tensor\n",
        "    my_tensor2: torch.Tensor\n",
        "  Retuns:\n",
        "    output: torch.Tensor\n",
        "      The multiplication of the column sum of `my_tensor1` by the sum of\n",
        "      `my_tensor2`.\n",
        "  \"\"\"\n",
        "  ################################################\n",
        "  ## TODO for students: complete functionA\n",
        "  raise NotImplementedError(\"Student exercise: complete function A\")\n",
        "  ################################################\n",
        "  # TODO multiplication the sum of the tensors\n",
        "  output = ...\n",
        "\n",
        "  return output\n",
        "\n",
        "\n",
        "def functionB(my_tensor):\n",
        "  \"\"\"\n",
        "  This function takes in a square matrix `my_tensor` and returns a 2D tensor\n",
        "  consisting of a flattened `my_tensor` with the index of each element\n",
        "  appended to this tensor in the row dimension.\n",
        "\n",
        "  Args:\n",
        "    my_tensor: torch.Tensor\n",
        "  Retuns:\n",
        "    output: torch.Tensor\n",
        "      Concatenated tensor.\n",
        "  \"\"\"\n",
        "  ################################################\n",
        "  ## TODO for students: complete functionB\n",
        "  raise NotImplementedError(\"Student exercise: complete function B\")\n",
        "  ################################################\n",
        "  # TODO flatten the tensor `my_tensor`\n",
        "  my_tensor = ...\n",
        "  # TODO create the idx tensor to be concatenated to `my_tensor`\n",
        "  idx_tensor = ...\n",
        "  # TODO concatenate the two tensors\n",
        "  output = ...\n",
        "\n",
        "  return output\n",
        "\n",
        "\n",
        "def functionC(my_tensor1, my_tensor2):\n",
        "  \"\"\"\n",
        "  This function takes in two 2D tensors `my_tensor1` and `my_tensor2`.\n",
        "  If the dimensions allow it, it returns the\n",
        "  elementwise sum of `my_tensor1`-shaped `my_tensor2`, and `my_tensor2`;\n",
        "  else this function returns a 1D tensor that is the concatenation of the\n",
        "  two tensors.\n",
        "\n",
        "  Args:\n",
        "    my_tensor1: torch.Tensor\n",
        "    my_tensor2: torch.Tensor\n",
        "  Retuns:\n",
        "    output: torch.Tensor\n",
        "      Concatenated tensor.\n",
        "  \"\"\"\n",
        "  ################################################\n",
        "  ## TODO for students: complete functionB\n",
        "  raise NotImplementedError(\"Student exercise: complete function C\")\n",
        "  ################################################\n",
        "  # TODO check we can reshape `my_tensor2` into the shape of `my_tensor1`\n",
        "  if ...:\n",
        "    # TODO reshape `my_tensor2` into the shape of `my_tensor1`\n",
        "    my_tensor2 = ...\n",
        "    # TODO sum the two tensors\n",
        "    output = ...\n",
        "  else:\n",
        "    # TODO flatten both tensors\n",
        "    my_tensor1 = ...\n",
        "    my_tensor2 = ...\n",
        "    # TODO concatenate the two tensors in the correct dimension\n",
        "    output = ...\n",
        "\n",
        "  return output\n",
        "\n",
        "\n",
        "## Implement the functions above and then uncomment the following lines to test your code\n",
        "# print(functionA(torch.tensor([[1, 1], [1, 1]]), torch.tensor([[1, 2, 3], [1, 2, 3]])))\n",
        "# print(functionB(torch.tensor([[2, 3], [-1, 10]])))\n",
        "# print(functionC(torch.tensor([[1, -1], [-1, 3]]), torch.tensor([[2, 3, 0, 2]])))\n",
        "# print(functionC(torch.tensor([[1, -1], [-1, 3]]), torch.tensor([[2, 3, 0]])))"
      ],
      "execution_count": null,
      "outputs": []
    },
    {
      "cell_type": "markdown",
      "metadata": {
        "execution": {},
        "id": "SFmVJwmV6_rE"
      },
      "source": [
        "```\n",
        "Answers:\n",
        "tensor([24, 24])\n",
        "tensor([[ 0,  2],\n",
        "        [ 1,  3],\n",
        "        [ 2, -1],\n",
        "        [ 3, 10]])\n",
        "tensor([[ 3,  2],\n",
        "        [-1,  5]])\n",
        "tensor([ 1, -1, -1,  3,  2,  3,  0])\n",
        "```"
      ]
    },
    {
      "cell_type": "markdown",
      "metadata": {
        "execution": {},
        "id": "_FAoSldj6_rE"
      },
      "source": [
        "## Section 2.4: GPUs \n"
      ]
    },
    {
      "cell_type": "code",
      "metadata": {
        "execution": {},
        "id": "AoiIOJnY6_rE"
      },
      "source": [
        "# @title GPU Tensors in Pytorch\n",
        "from ipywidgets import widgets\n",
        "\n",
        "out = widgets.Output()\n",
        "with out:\n",
        "  from IPython.display import YouTubeVideo\n",
        "  video = YouTubeVideo(id=f\"eUq2O0KFXfo\", width=854, height=480, fs=1, rel=0)\n",
        "  print(\"Video available at https://youtube.com/watch?v=\" + video.id)\n",
        "  display(video)\n",
        "\n",
        "display(out)"
      ],
      "execution_count": null,
      "outputs": []
    },
    {
      "cell_type": "markdown",
      "metadata": {
        "execution": {},
        "id": "L2T4jxyG6_rE"
      },
      "source": [
        "\n",
        "By default, when we create a tensor it will *not* live on the GPU! "
      ]
    },
    {
      "cell_type": "code",
      "metadata": {
        "execution": {},
        "id": "UHKdhdkj6_rE"
      },
      "source": [
        "x = torch.randn(10)\n",
        "print(x.device)"
      ],
      "execution_count": null,
      "outputs": []
    },
    {
      "cell_type": "markdown",
      "metadata": {
        "execution": {},
        "id": "Q8FjhxWE6_rE"
      },
      "source": [
        "When using Colab notebooks by default will not have access to a GPU. In order to start using GPUs we need to request one. We can do this by going to the runtime tab at the top of the page. \n",
        "\n",
        "By following Runtime -> Change runtime type and selecting \"GPU\" from the Hardware Accelerator dropdown list, we can start playing with sending tensors to GPUs.\n",
        "\n",
        "Once you have done this your runtime will restart and you will need to rerun the first setup cell to reimport PyTorch. Then proceed to the next cell.\n",
        "\n",
        "(For more information on the GPU usage policy you can view in the appendix)"
      ]
    },
    {
      "cell_type": "markdown",
      "metadata": {
        "execution": {},
        "id": "FHTZdrk76_rE"
      },
      "source": [
        "**Now we have a GPU**\n"
      ]
    },
    {
      "cell_type": "markdown",
      "metadata": {
        "execution": {},
        "id": "vEAYx7mc6_rE"
      },
      "source": [
        "The cell below should return True."
      ]
    },
    {
      "cell_type": "code",
      "metadata": {
        "execution": {},
        "id": "2ABukiHj6_rE"
      },
      "source": [
        "print(torch.cuda.is_available())"
      ],
      "execution_count": null,
      "outputs": []
    },
    {
      "cell_type": "markdown",
      "metadata": {
        "execution": {},
        "id": "CR0xckjF6_rF"
      },
      "source": [
        "CUDA is an API developed by Nvidia for interfacing with GPUs. PyTorch provides us with a layer of abstraction, and allows us to launch CUDA kernels using pure Python. *NOTE I am assuming that GPU stuff might be covered in more detail on another day but there could be a bit more detail here.*\n",
        "\n",
        "In short, we get the power of parallising our tensor computations on GPUs, whilst only writing (relatively) simple Python!\n",
        "\n",
        "Here, we define the function `set_device`, which returns the device use in the notebook, i.e., `cpu` or `cuda`. Unless otherwise specified, we use this function on top of every tutorial, and we store the device variable such as\n",
        "\n",
        "```python\n",
        "DEVICE = set_device()\n",
        "```\n",
        "\n",
        "Let's define the function using the PyTorch package `torch.cuda`, which is lazily initialized, so we can always import it, and use `is_available()` to determine if our system supports CUDA."
      ]
    },
    {
      "cell_type": "code",
      "metadata": {
        "execution": {},
        "id": "Q2nnqLwW6_rF"
      },
      "source": [
        "def set_device():\n",
        "  device = \"cuda\" if torch.cuda.is_available() else \"cpu\"\n",
        "  if device != \"cuda\":\n",
        "    print(\"GPU is not enabled in this notebook. \\n\"\n",
        "          \"If you want to enable it, in the menu under `Runtime` -> \\n\"\n",
        "          \"`Hardware accelerator.` and select `GPU` from the dropdown menu\")\n",
        "  else:\n",
        "    print(\"GPU is enabled in this notebook. \\n\"\n",
        "          \"If you want to disable it, in the menu under `Runtime` -> \\n\"\n",
        "          \"`Hardware accelerator.` and select `None` from the dropdown menu\")\n",
        "\n",
        "  return device"
      ],
      "execution_count": null,
      "outputs": []
    },
    {
      "cell_type": "markdown",
      "metadata": {
        "execution": {},
        "id": "oTvF2G2r6_rF"
      },
      "source": [
        "Let's make some CUDA tensors!"
      ]
    },
    {
      "cell_type": "code",
      "metadata": {
        "execution": {},
        "id": "RFGZU3Ve6_rF"
      },
      "source": [
        "# common device agnostic way of writing code that can run on cpu OR gpu\n",
        "# that we provide for you in each of the tutorials\n",
        "DEVICE = set_device()\n",
        "\n",
        "# we can specify a device when we first create our tensor\n",
        "x = torch.randn(2, 2, device=DEVICE)\n",
        "print(x.dtype)\n",
        "print(x.device)\n",
        "\n",
        "# we can also use the .to() method to change the device a tensor lives on\n",
        "y = torch.randn(2, 2)\n",
        "print(f\"y before calling to() |  device: {y.device} | dtype: {y.type()}\")\n",
        "\n",
        "y = y.to(DEVICE)\n",
        "print(f\"y after calling to() |  device: {y.device} | dtype: {y.type()}\")"
      ],
      "execution_count": null,
      "outputs": []
    },
    {
      "cell_type": "markdown",
      "metadata": {
        "execution": {},
        "id": "Wesx6F2A6_rF"
      },
      "source": [
        "**Operations between cpu tensors and cuda tensors**\n",
        "\n",
        "Note that the type of the tensor changed after calling ```.to()```. What happens if we try and perform operations on tensors on devices?\n",
        "\n",
        "\n"
      ]
    },
    {
      "cell_type": "code",
      "metadata": {
        "execution": {},
        "id": "-q7eoeo06_rF"
      },
      "source": [
        "x = torch.tensor([0, 1, 2], device=DEVICE)\n",
        "y = torch.tensor([3, 4, 5], device=\"cpu\")\n",
        "\n",
        "# Uncomment the following line and run this cell\n",
        "# z = x + y"
      ],
      "execution_count": null,
      "outputs": []
    },
    {
      "cell_type": "markdown",
      "metadata": {
        "execution": {},
        "id": "3rxX2Z246_rF"
      },
      "source": [
        "We cannot combine cuda tensors and cpu tensors in this fashion. If we want to compute an operation that combines tensors on different devices, we need to move them first! We can use the `.to()` method as before, or the `.cpu()` and `.cuda()` methods. Note that using the `.cuda()` will throw an error if CUDA is not enabled in your machine.\n",
        "\n",
        "Genrally in this course all Deep learning is done on the GPU and any computation is done on the CPU, so sometimes we have to pass things back and forth so you'll see us call."
      ]
    },
    {
      "cell_type": "code",
      "metadata": {
        "execution": {},
        "id": "YZwaf1O86_rG"
      },
      "source": [
        "x = torch.tensor([0, 1, 2], device=DEVICE)\n",
        "y = torch.tensor([3, 4, 5], device=\"cpu\")\n",
        "z = torch.tensor([6, 7, 8], device=DEVICE)\n",
        "\n",
        "# moving to cpu\n",
        "x = x.to(\"cpu\")  # alternatively, you can use x = x.cpu()\n",
        "print(x + y)\n",
        "\n",
        "# moving to gpu\n",
        "y = y.to(DEVICE)  # alternatively, you can use y = y.cuda()\n",
        "print(y + z)"
      ],
      "execution_count": null,
      "outputs": []
    },
    {
      "cell_type": "markdown",
      "metadata": {
        "execution": {},
        "id": "Gc2lpSpR6_rG"
      },
      "source": [
        "### Coding Exercise 2.4: Just how much faster are GPUs?\n",
        "\n",
        "Below is a simple function `simpleFun`. Complete this function, such that it performs the operations:\n",
        "\n",
        "- elementwise multiplication\n",
        "\n",
        "- matrix multiplication\n",
        "\n",
        "The operations should be able to perfomed on either the CPU or GPU specified by the parameter `device`. We will use the helper function `timeFun(f, dim, iterations, device)`."
      ]
    },
    {
      "cell_type": "code",
      "metadata": {
        "execution": {},
        "id": "bFZYANri6_rG"
      },
      "source": [
        "dim = 10000\n",
        "iterations = 1"
      ],
      "execution_count": null,
      "outputs": []
    },
    {
      "cell_type": "code",
      "metadata": {
        "execution": {},
        "id": "fWz-1j_G6_rG"
      },
      "source": [
        "def simpleFun(dim, device):\n",
        "  \"\"\"\n",
        "  Args:\n",
        "    dim: integer\n",
        "    device: \"cpu\" or \"cuda\"\n",
        "  Returns:\n",
        "    Nothing.\n",
        "  \"\"\"\n",
        "  ###############################################\n",
        "  ## TODO for students: recreate the function, but\n",
        "  ## ensure all computations happens on the `device`\n",
        "  raise NotImplementedError(\"Student exercise: fill in the missing code to create the tensors\")\n",
        "  ###############################################\n",
        "  # 2D tensor filled with uniform random numbers in [0,1), dim x dim\n",
        "  x = ...\n",
        "  # 2D tensor filled with uniform random numbers in [0,1), dim x dim\n",
        "  y = ...\n",
        "  # 2D tensor filled with the scalar value 2, dim x dim\n",
        "  z = ...\n",
        "\n",
        "  # elementwise multiplication of x and y\n",
        "  a = ...\n",
        "  # matrix multiplication of x and y\n",
        "  b = ...\n",
        "\n",
        "  del x\n",
        "  del y\n",
        "  del z\n",
        "  del a\n",
        "  del b\n",
        "\n",
        "\n",
        "## TODO: Implement the function above and uncomment the following lines to test your code\n",
        "# timeFun(f=simpleFun, dim=dim, iterations=iterations)\n",
        "# timeFun(f=simpleFun, dim=dim, iterations=iterations, device=DEVICE)"
      ],
      "execution_count": null,
      "outputs": []
    },
    {
      "cell_type": "markdown",
      "metadata": {
        "execution": {},
        "id": "qoXdCV6I6_rG"
      },
      "source": [
        "Sample output (depends on your hardware)\n",
        "\n",
        "```\n",
        "time taken for 1 iterations of simpleFun(10000, cpu): 23.74070\n",
        "time taken for 1 iterations of simpleFun(10000, cuda): 0.87535\n",
        "```"
      ]
    },
    {
      "cell_type": "markdown",
      "metadata": {
        "execution": {},
        "id": "LYGEo6cs6_rG"
      },
      "source": [
        "**Discuss!**\n",
        "\n",
        "Try and reduce the dimensions of the tensors and increase the iterations. You can get to a point where the cpu only function is faster than the GPU function. Why might this be?\n"
      ]
    },
    {
      "cell_type": "code",
      "metadata": {
        "cellView": "form",
        "id": "gPfo8idfDCjE"
      },
      "source": [
        "# @title Goal of Machine Learning and How not to do Cross Validation!\n",
        "from ipywidgets import widgets\n",
        "\n",
        "out = widgets.Output()\n",
        "with out:\n",
        "  from IPython.display import YouTubeVideo\n",
        "  video = YouTubeVideo(id=f\"eMigRAl4ZR0\", width=854, height=480, fs=1, rel=0)\n",
        "  print(\"Video available at https://youtube.com/watch?v=\" + video.id)\n",
        "  display(video)\n",
        "\n",
        "display(out)"
      ],
      "execution_count": null,
      "outputs": []
    },
    {
      "cell_type": "markdown",
      "metadata": {
        "execution": {},
        "id": "Ok5-36I26_rV"
      },
      "source": [
        "---\n",
        "# Appendix\n",
        "\n",
        "## Official PyTorch resources:\n",
        "### Tutorials\n",
        "https://pytorch.org/tutorials/\n",
        "\n",
        "### Documentation\n",
        "\n",
        " https://pytorch.org/docs/stable/tensors.html (tensor methods)\n",
        "\n",
        " https://pytorch.org/docs/stable/tensors.html#torch.Tensor.view  (The view method in particular)\n",
        "\n",
        " https://pytorch.org/vision/stable/datasets.html (pre-loaded image datasets)\n",
        "\n",
        " ## Google Colab Resources:\n",
        " https://research.google.com/colaboratory/faq.html (FAQ including guidance on GPU usage)\n",
        "\n",
        " ## Books for reference:\n",
        "\n",
        "https://www.deeplearningbook.org/ (Deep Learning by Ian Goodfellow, Yoshua Bengio and Aaron Courville)\n",
        "\n",
        " "
      ]
    }
  ]
}
